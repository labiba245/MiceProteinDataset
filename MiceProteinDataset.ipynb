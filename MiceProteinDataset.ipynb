{
 "cells": [
  {
   "cell_type": "code",
   "execution_count": 1,
   "metadata": {},
   "outputs": [],
   "source": [
    "#Task 1: Retrieving and Preparing the Data"
   ]
  },
  {
   "cell_type": "code",
   "execution_count": 2,
   "metadata": {},
   "outputs": [],
   "source": [
    "#load the csv file\n",
    "data = 'Data_Cortex_Nuclear.csv'"
   ]
  },
  {
   "cell_type": "code",
   "execution_count": 3,
   "metadata": {},
   "outputs": [],
   "source": [
    "import pandas as pd"
   ]
  },
  {
   "cell_type": "code",
   "execution_count": 4,
   "metadata": {},
   "outputs": [],
   "source": [
    "#read the csv file\n",
    "dataset = pd.read_csv(data, sep=',', decimal='.', header=0)"
   ]
  },
  {
   "cell_type": "code",
   "execution_count": 5,
   "metadata": {},
   "outputs": [
    {
     "data": {
      "text/html": [
       "<div>\n",
       "<style scoped>\n",
       "    .dataframe tbody tr th:only-of-type {\n",
       "        vertical-align: middle;\n",
       "    }\n",
       "\n",
       "    .dataframe tbody tr th {\n",
       "        vertical-align: top;\n",
       "    }\n",
       "\n",
       "    .dataframe thead th {\n",
       "        text-align: right;\n",
       "    }\n",
       "</style>\n",
       "<table border=\"1\" class=\"dataframe\">\n",
       "  <thead>\n",
       "    <tr style=\"text-align: right;\">\n",
       "      <th></th>\n",
       "      <th>MouseID</th>\n",
       "      <th>DYRK1A_N</th>\n",
       "      <th>ITSN1_N</th>\n",
       "      <th>BDNF_N</th>\n",
       "      <th>NR1_N</th>\n",
       "      <th>NR2A_N</th>\n",
       "      <th>pAKT_N</th>\n",
       "      <th>pBRAF_N</th>\n",
       "      <th>pCAMKII_N</th>\n",
       "      <th>pCREB_N</th>\n",
       "      <th>...</th>\n",
       "      <th>pCFOS_N</th>\n",
       "      <th>SYP_N</th>\n",
       "      <th>H3AcK18_N</th>\n",
       "      <th>EGR1_N</th>\n",
       "      <th>H3MeK4_N</th>\n",
       "      <th>CaNA_N</th>\n",
       "      <th>Genotype</th>\n",
       "      <th>Treatment</th>\n",
       "      <th>Behavior</th>\n",
       "      <th>class</th>\n",
       "    </tr>\n",
       "  </thead>\n",
       "  <tbody>\n",
       "    <tr>\n",
       "      <th>0</th>\n",
       "      <td>309_1</td>\n",
       "      <td>0.503644</td>\n",
       "      <td>0.747193</td>\n",
       "      <td>0.430175</td>\n",
       "      <td>2.816329</td>\n",
       "      <td>5.990152</td>\n",
       "      <td>0.218830</td>\n",
       "      <td>0.177565</td>\n",
       "      <td>2.373744</td>\n",
       "      <td>0.232224</td>\n",
       "      <td>...</td>\n",
       "      <td>0.108336</td>\n",
       "      <td>0.427099</td>\n",
       "      <td>0.114783</td>\n",
       "      <td>0.131790</td>\n",
       "      <td>0.128186</td>\n",
       "      <td>1.675652</td>\n",
       "      <td>Control</td>\n",
       "      <td>Memantine</td>\n",
       "      <td>C/S</td>\n",
       "      <td>c-CS-m</td>\n",
       "    </tr>\n",
       "    <tr>\n",
       "      <th>1</th>\n",
       "      <td>309_2</td>\n",
       "      <td>0.514617</td>\n",
       "      <td>0.689064</td>\n",
       "      <td>0.411770</td>\n",
       "      <td>2.789514</td>\n",
       "      <td>5.685038</td>\n",
       "      <td>0.211636</td>\n",
       "      <td>0.172817</td>\n",
       "      <td>2.292150</td>\n",
       "      <td>0.226972</td>\n",
       "      <td>...</td>\n",
       "      <td>0.104315</td>\n",
       "      <td>0.441581</td>\n",
       "      <td>0.111974</td>\n",
       "      <td>0.135103</td>\n",
       "      <td>0.131119</td>\n",
       "      <td>1.743610</td>\n",
       "      <td>Control</td>\n",
       "      <td>Memantine</td>\n",
       "      <td>C/S</td>\n",
       "      <td>c-CS-m</td>\n",
       "    </tr>\n",
       "    <tr>\n",
       "      <th>2</th>\n",
       "      <td>309_3</td>\n",
       "      <td>0.509183</td>\n",
       "      <td>0.730247</td>\n",
       "      <td>0.418309</td>\n",
       "      <td>2.687201</td>\n",
       "      <td>5.622059</td>\n",
       "      <td>0.209011</td>\n",
       "      <td>0.175722</td>\n",
       "      <td>2.283337</td>\n",
       "      <td>0.230247</td>\n",
       "      <td>...</td>\n",
       "      <td>0.106219</td>\n",
       "      <td>0.435777</td>\n",
       "      <td>0.111883</td>\n",
       "      <td>0.133362</td>\n",
       "      <td>0.127431</td>\n",
       "      <td>1.926427</td>\n",
       "      <td>Control</td>\n",
       "      <td>Memantine</td>\n",
       "      <td>C/S</td>\n",
       "      <td>c-CS-m</td>\n",
       "    </tr>\n",
       "    <tr>\n",
       "      <th>3</th>\n",
       "      <td>309_4</td>\n",
       "      <td>0.442107</td>\n",
       "      <td>0.617076</td>\n",
       "      <td>0.358626</td>\n",
       "      <td>2.466947</td>\n",
       "      <td>4.979503</td>\n",
       "      <td>0.222886</td>\n",
       "      <td>0.176463</td>\n",
       "      <td>2.152301</td>\n",
       "      <td>0.207004</td>\n",
       "      <td>...</td>\n",
       "      <td>0.111262</td>\n",
       "      <td>0.391691</td>\n",
       "      <td>0.130405</td>\n",
       "      <td>0.147444</td>\n",
       "      <td>0.146901</td>\n",
       "      <td>1.700563</td>\n",
       "      <td>Control</td>\n",
       "      <td>Memantine</td>\n",
       "      <td>C/S</td>\n",
       "      <td>c-CS-m</td>\n",
       "    </tr>\n",
       "    <tr>\n",
       "      <th>4</th>\n",
       "      <td>309_5</td>\n",
       "      <td>0.434940</td>\n",
       "      <td>0.617430</td>\n",
       "      <td>0.358802</td>\n",
       "      <td>2.365785</td>\n",
       "      <td>4.718679</td>\n",
       "      <td>0.213106</td>\n",
       "      <td>0.173627</td>\n",
       "      <td>2.134014</td>\n",
       "      <td>0.192158</td>\n",
       "      <td>...</td>\n",
       "      <td>0.110694</td>\n",
       "      <td>0.434154</td>\n",
       "      <td>0.118481</td>\n",
       "      <td>0.140314</td>\n",
       "      <td>0.148380</td>\n",
       "      <td>1.839730</td>\n",
       "      <td>Control</td>\n",
       "      <td>Memantine</td>\n",
       "      <td>C/S</td>\n",
       "      <td>c-CS-m</td>\n",
       "    </tr>\n",
       "  </tbody>\n",
       "</table>\n",
       "<p>5 rows × 82 columns</p>\n",
       "</div>"
      ],
      "text/plain": [
       "  MouseID  DYRK1A_N   ITSN1_N    BDNF_N     NR1_N    NR2A_N    pAKT_N  \\\n",
       "0   309_1  0.503644  0.747193  0.430175  2.816329  5.990152  0.218830   \n",
       "1   309_2  0.514617  0.689064  0.411770  2.789514  5.685038  0.211636   \n",
       "2   309_3  0.509183  0.730247  0.418309  2.687201  5.622059  0.209011   \n",
       "3   309_4  0.442107  0.617076  0.358626  2.466947  4.979503  0.222886   \n",
       "4   309_5  0.434940  0.617430  0.358802  2.365785  4.718679  0.213106   \n",
       "\n",
       "    pBRAF_N  pCAMKII_N   pCREB_N  ...   pCFOS_N     SYP_N  H3AcK18_N  \\\n",
       "0  0.177565   2.373744  0.232224  ...  0.108336  0.427099   0.114783   \n",
       "1  0.172817   2.292150  0.226972  ...  0.104315  0.441581   0.111974   \n",
       "2  0.175722   2.283337  0.230247  ...  0.106219  0.435777   0.111883   \n",
       "3  0.176463   2.152301  0.207004  ...  0.111262  0.391691   0.130405   \n",
       "4  0.173627   2.134014  0.192158  ...  0.110694  0.434154   0.118481   \n",
       "\n",
       "     EGR1_N  H3MeK4_N    CaNA_N  Genotype  Treatment  Behavior   class  \n",
       "0  0.131790  0.128186  1.675652   Control  Memantine       C/S  c-CS-m  \n",
       "1  0.135103  0.131119  1.743610   Control  Memantine       C/S  c-CS-m  \n",
       "2  0.133362  0.127431  1.926427   Control  Memantine       C/S  c-CS-m  \n",
       "3  0.147444  0.146901  1.700563   Control  Memantine       C/S  c-CS-m  \n",
       "4  0.140314  0.148380  1.839730   Control  Memantine       C/S  c-CS-m  \n",
       "\n",
       "[5 rows x 82 columns]"
      ]
     },
     "execution_count": 5,
     "metadata": {},
     "output_type": "execute_result"
    }
   ],
   "source": [
    "#print the first five rows\n",
    "dataset.head(5)"
   ]
  },
  {
   "cell_type": "code",
   "execution_count": 6,
   "metadata": {},
   "outputs": [
    {
     "data": {
      "text/plain": [
       "MouseID       object\n",
       "DYRK1A_N     float64\n",
       "ITSN1_N      float64\n",
       "BDNF_N       float64\n",
       "NR1_N        float64\n",
       "              ...   \n",
       "CaNA_N       float64\n",
       "Genotype      object\n",
       "Treatment     object\n",
       "Behavior      object\n",
       "class         object\n",
       "Length: 82, dtype: object"
      ]
     },
     "execution_count": 6,
     "metadata": {},
     "output_type": "execute_result"
    }
   ],
   "source": [
    "#check the types of loaded columns\n",
    "dataset.dtypes"
   ]
  },
  {
   "cell_type": "code",
   "execution_count": 7,
   "metadata": {},
   "outputs": [
    {
     "data": {
      "text/plain": [
       "Index(['MouseID', 'DYRK1A_N', 'ITSN1_N', 'BDNF_N', 'NR1_N', 'NR2A_N', 'pAKT_N',\n",
       "       'pBRAF_N', 'pCAMKII_N', 'pCREB_N', 'pELK_N', 'pERK_N', 'pJNK_N',\n",
       "       'PKCA_N', 'pMEK_N', 'pNR1_N', 'pNR2A_N', 'pNR2B_N', 'pPKCAB_N',\n",
       "       'pRSK_N', 'AKT_N', 'BRAF_N', 'CAMKII_N', 'CREB_N', 'ELK_N', 'ERK_N',\n",
       "       'GSK3B_N', 'JNK_N', 'MEK_N', 'TRKA_N', 'RSK_N', 'APP_N', 'Bcatenin_N',\n",
       "       'SOD1_N', 'MTOR_N', 'P38_N', 'pMTOR_N', 'DSCR1_N', 'AMPKA_N', 'NR2B_N',\n",
       "       'pNUMB_N', 'RAPTOR_N', 'TIAM1_N', 'pP70S6_N', 'NUMB_N', 'P70S6_N',\n",
       "       'pGSK3B_N', 'pPKCG_N', 'CDK5_N', 'S6_N', 'ADARB1_N', 'AcetylH3K9_N',\n",
       "       'RRP1_N', 'BAX_N', 'ARC_N', 'ERBB4_N', 'nNOS_N', 'Tau_N', 'GFAP_N',\n",
       "       'GluR3_N', 'GluR4_N', 'IL1B_N', 'P3525_N', 'pCASP9_N', 'PSD95_N',\n",
       "       'SNCA_N', 'Ubiquitin_N', 'pGSK3B_Tyr216_N', 'SHH_N', 'BAD_N', 'BCL2_N',\n",
       "       'pS6_N', 'pCFOS_N', 'SYP_N', 'H3AcK18_N', 'EGR1_N', 'H3MeK4_N',\n",
       "       'CaNA_N', 'Genotype', 'Treatment', 'Behavior', 'class'],\n",
       "      dtype='object')"
      ]
     },
     "execution_count": 7,
     "metadata": {},
     "output_type": "execute_result"
    }
   ],
   "source": [
    "#get the name of the columns\n",
    "dataset.columns"
   ]
  },
  {
   "cell_type": "code",
   "execution_count": 8,
   "metadata": {},
   "outputs": [
    {
     "data": {
      "text/plain": [
       "(1080, 82)"
      ]
     },
     "execution_count": 8,
     "metadata": {},
     "output_type": "execute_result"
    }
   ],
   "source": [
    "#check the size of data type\n",
    "dataset.shape"
   ]
  },
  {
   "cell_type": "code",
   "execution_count": 9,
   "metadata": {},
   "outputs": [],
   "source": [
    "#drop the MouseID column\n",
    "dataset.drop(columns=['MouseID'], inplace=True)"
   ]
  },
  {
   "cell_type": "code",
   "execution_count": 10,
   "metadata": {},
   "outputs": [],
   "source": [
    "#remove all redundant whitespaces\n",
    "for x in dataset.columns:\n",
    "    if dataset[x].dtype == object:\n",
    "        dataset[x] = dataset[x].str.strip()"
   ]
  },
  {
   "cell_type": "code",
   "execution_count": 11,
   "metadata": {},
   "outputs": [
    {
     "data": {
      "text/plain": [
       "0.399414    1\n",
       "0.669722    1\n",
       "0.318166    1\n",
       "0.424733    1\n",
       "0.392590    1\n",
       "           ..\n",
       "0.429252    1\n",
       "0.194417    1\n",
       "0.481273    1\n",
       "0.229960    1\n",
       "0.343750    1\n",
       "Name: DYRK1A_N, Length: 1077, dtype: int64"
      ]
     },
     "execution_count": 11,
     "metadata": {},
     "output_type": "execute_result"
    }
   ],
   "source": [
    "#check values of a column to find typos\n",
    "dataset['DYRK1A_N'].value_counts()"
   ]
  },
  {
   "cell_type": "code",
   "execution_count": 12,
   "metadata": {},
   "outputs": [
    {
     "data": {
      "text/plain": [
       "Control    570\n",
       "Ts65Dn     510\n",
       "Name: Genotype, dtype: int64"
      ]
     },
     "execution_count": 12,
     "metadata": {},
     "output_type": "execute_result"
    }
   ],
   "source": [
    "#check values of a column to find typos\n",
    "dataset['Genotype'].value_counts()"
   ]
  },
  {
   "cell_type": "code",
   "execution_count": 13,
   "metadata": {},
   "outputs": [
    {
     "data": {
      "text/plain": [
       "S/C    555\n",
       "C/S    525\n",
       "Name: Behavior, dtype: int64"
      ]
     },
     "execution_count": 13,
     "metadata": {},
     "output_type": "execute_result"
    }
   ],
   "source": [
    "#check values of a column to find typos\n",
    "dataset['Behavior'].value_counts()"
   ]
  },
  {
   "cell_type": "code",
   "execution_count": 14,
   "metadata": {},
   "outputs": [
    {
     "data": {
      "text/plain": [
       "Memantine    570\n",
       "Saline       510\n",
       "Name: Treatment, dtype: int64"
      ]
     },
     "execution_count": 14,
     "metadata": {},
     "output_type": "execute_result"
    }
   ],
   "source": [
    "#check values of a column to find typos\n",
    "dataset['Treatment'].value_counts()"
   ]
  },
  {
   "cell_type": "code",
   "execution_count": 15,
   "metadata": {},
   "outputs": [
    {
     "data": {
      "text/plain": [
       "c-CS-m    150\n",
       "c-SC-m    150\n",
       "t-SC-m    135\n",
       "c-CS-s    135\n",
       "t-CS-m    135\n",
       "t-SC-s    135\n",
       "c-SC-s    135\n",
       "t-CS-s    105\n",
       "Name: class, dtype: int64"
      ]
     },
     "execution_count": 15,
     "metadata": {},
     "output_type": "execute_result"
    }
   ],
   "source": [
    "#check values of a column to find typos\n",
    "dataset['class'].value_counts()"
   ]
  },
  {
   "cell_type": "code",
   "execution_count": 16,
   "metadata": {},
   "outputs": [
    {
     "data": {
      "text/plain": [
       "Index(['DYRK1A_N', 'ITSN1_N', 'BDNF_N', 'NR1_N', 'NR2A_N', 'pAKT_N', 'pBRAF_N',\n",
       "       'pCAMKII_N', 'pCREB_N', 'pELK_N', 'pERK_N', 'pJNK_N', 'PKCA_N',\n",
       "       'pMEK_N', 'pNR1_N', 'pNR2A_N', 'pNR2B_N', 'pPKCAB_N', 'pRSK_N', 'AKT_N',\n",
       "       'BRAF_N', 'CAMKII_N', 'CREB_N', 'ELK_N', 'ERK_N', 'GSK3B_N', 'JNK_N',\n",
       "       'MEK_N', 'TRKA_N', 'RSK_N', 'APP_N', 'Bcatenin_N', 'SOD1_N', 'MTOR_N',\n",
       "       'P38_N', 'pMTOR_N', 'DSCR1_N', 'AMPKA_N', 'NR2B_N', 'pNUMB_N',\n",
       "       'RAPTOR_N', 'TIAM1_N', 'pP70S6_N', 'BAD_N', 'BCL2_N', 'pCFOS_N',\n",
       "       'H3AcK18_N', 'EGR1_N', 'H3MeK4_N'],\n",
       "      dtype='object')"
      ]
     },
     "execution_count": 16,
     "metadata": {},
     "output_type": "execute_result"
    }
   ],
   "source": [
    "#check which columns have missing values\n",
    "dataset.columns[dataset.isnull().any()]"
   ]
  },
  {
   "cell_type": "code",
   "execution_count": 17,
   "metadata": {},
   "outputs": [],
   "source": [
    "#fill the NaN cells with mean of each column\n",
    "dataset['DYRK1A_N'].fillna(dataset['DYRK1A_N'].mean(axis=0),inplace=True)\n",
    "dataset['ITSN1_N'].fillna(dataset['ITSN1_N'].mean(axis=0),inplace=True)\n",
    "dataset['BDNF_N'].fillna(dataset['BDNF_N'].mean(axis=0),inplace=True)\n",
    "dataset['NR1_N'].fillna(dataset['NR1_N'].mean(axis=0),inplace=True)\n",
    "dataset['NR2A_N'].fillna(dataset['NR2A_N'].mean(axis=0),inplace=True)\n",
    "dataset['pAKT_N'].fillna(dataset['pAKT_N'].mean(axis=0),inplace=True)\n",
    "dataset['pBRAF_N'].fillna(dataset['pBRAF_N'].mean(axis=0),inplace=True)\n",
    "dataset['pCAMKII_N'].fillna(dataset['pCAMKII_N'].mean(axis=0),inplace=True)\n",
    "dataset['pCREB_N'].fillna(dataset['pCREB_N'].mean(axis=0),inplace=True)\n",
    "dataset['pELK_N'].fillna(dataset['pELK_N'].mean(axis=0),inplace=True)\n",
    "dataset['pERK_N'].fillna(dataset['pERK_N'].mean(axis=0),inplace=True)\n",
    "dataset['pJNK_N'].fillna(dataset['pJNK_N'].mean(axis=0),inplace=True)\n",
    "dataset['PKCA_N'].fillna(dataset['PKCA_N'].mean(axis=0),inplace=True)\n",
    "dataset['pMEK_N'].fillna(dataset['pMEK_N'].mean(axis=0),inplace=True)\n",
    "dataset['pNR1_N'].fillna(dataset['pNR1_N'].mean(axis=0),inplace=True)\n",
    "dataset['pNR2A_N'].fillna(dataset['pNR2A_N'].mean(axis=0),inplace=True)\n",
    "dataset['pNR2B_N'].fillna(dataset['pNR2B_N'].mean(axis=0),inplace=True)\n",
    "dataset['pPKCAB_N'].fillna(dataset['pPKCAB_N'].mean(axis=0),inplace=True)\n",
    "dataset['pRSK_N'].fillna(dataset['pRSK_N'].mean(axis=0),inplace=True)\n",
    "dataset['AKT_N'].fillna(dataset['AKT_N'].mean(axis=0),inplace=True)\n",
    "dataset['BRAF_N'].fillna(dataset['BRAF_N'].mean(axis=0),inplace=True)\n",
    "dataset['CAMKII_N'].fillna(dataset['CAMKII_N'].mean(axis=0),inplace=True)\n",
    "dataset['CREB_N'].fillna(dataset['CREB_N'].mean(axis=0),inplace=True)\n",
    "dataset['ELK_N'].fillna(dataset['ELK_N'].mean(axis=0),inplace=True)\n",
    "dataset['ERK_N'].fillna(dataset['ERK_N'].mean(axis=0),inplace=True)\n",
    "dataset['GSK3B_N'].fillna(dataset['GSK3B_N'].mean(axis=0),inplace=True)\n",
    "dataset['JNK_N'].fillna(dataset['JNK_N'].mean(axis=0),inplace=True)\n",
    "dataset['MEK_N'].fillna(dataset['MEK_N'].mean(axis=0),inplace=True)\n",
    "dataset['TRKA_N'].fillna(dataset['TRKA_N'].mean(axis=0),inplace=True)\n",
    "dataset['RSK_N'].fillna(dataset['RSK_N'].mean(axis=0),inplace=True)\n",
    "dataset['APP_N'].fillna(dataset['APP_N'].mean(axis=0),inplace=True)\n",
    "dataset['Bcatenin_N'].fillna(dataset['Bcatenin_N'].mean(axis=0),inplace=True)\n",
    "dataset['SOD1_N'].fillna(dataset['SOD1_N'].mean(axis=0),inplace=True)\n",
    "dataset['MTOR_N'].fillna(dataset['MTOR_N'].mean(axis=0),inplace=True)\n",
    "dataset['P38_N'].fillna(dataset['P38_N'].mean(axis=0),inplace=True)\n",
    "dataset['pMTOR_N'].fillna(dataset['pMTOR_N'].mean(axis=0),inplace=True)\n",
    "dataset['DSCR1_N'].fillna(dataset['DSCR1_N'].mean(axis=0),inplace=True)\n",
    "dataset['AMPKA_N'].fillna(dataset['AMPKA_N'].mean(axis=0),inplace=True)\n",
    "dataset['NR2B_N'].fillna(dataset['NR2B_N'].mean(axis=0),inplace=True)\n",
    "dataset['pNUMB_N'].fillna(dataset['pNUMB_N'].mean(axis=0),inplace=True)\n",
    "dataset['RAPTOR_N'].fillna(dataset['RAPTOR_N'].mean(axis=0),inplace=True)\n",
    "dataset['TIAM1_N'].fillna(dataset['TIAM1_N'].mean(axis=0),inplace=True)\n",
    "dataset['pP70S6_N'].fillna(dataset['pP70S6_N'].mean(axis=0),inplace=True)\n",
    "dataset['BAD_N'].fillna(dataset['BAD_N'].mean(axis=0),inplace=True)\n",
    "dataset['BCL2_N'].fillna(dataset['BCL2_N'].mean(axis=0),inplace=True)\n",
    "dataset['pCFOS_N'].fillna(dataset['pCFOS_N'].mean(axis=0),inplace=True)\n",
    "dataset['H3AcK18_N'].fillna(dataset['H3AcK18_N'].mean(axis=0),inplace=True)\n",
    "dataset['EGR1_N'].fillna(dataset['EGR1_N'].mean(axis=0),inplace=True)\n",
    "dataset['H3MeK4_N'].fillna(dataset['H3MeK4_N'].mean(axis=0),inplace=True)\n"
   ]
  },
  {
   "cell_type": "code",
   "execution_count": 18,
   "metadata": {},
   "outputs": [
    {
     "data": {
      "text/plain": [
       "Index([], dtype='object')"
      ]
     },
     "execution_count": 18,
     "metadata": {},
     "output_type": "execute_result"
    }
   ],
   "source": [
    "#further check to ensure there are no missing values\n",
    "dataset.columns[dataset.isnull().any()]"
   ]
  },
  {
   "cell_type": "code",
   "execution_count": 19,
   "metadata": {},
   "outputs": [],
   "source": [
    "#Task 2.1: Explore at least 10 columns"
   ]
  },
  {
   "cell_type": "code",
   "execution_count": 20,
   "metadata": {},
   "outputs": [],
   "source": [
    "import matplotlib.pyplot as plt"
   ]
  },
  {
   "cell_type": "code",
   "execution_count": 21,
   "metadata": {},
   "outputs": [],
   "source": [
    "import numpy as np"
   ]
  },
  {
   "cell_type": "code",
   "execution_count": 22,
   "metadata": {},
   "outputs": [
    {
     "data": {
      "image/png": "[encoded data removed]",
      "text/plain": [
       "<Figure size 432x288 with 1 Axes>"
      ]
     },
     "metadata": {},
     "output_type": "display_data"
    }
   ],
   "source": [
    "dataset['Genotype'].value_counts().plot(kind = 'pie', autopct = '%.2f')\n",
    "plt.title('Figure 1: Showing the proportion of Control and Trisomic Genotype')\n",
    "plt.show()"
   ]
  },
  {
   "cell_type": "code",
   "execution_count": 23,
   "metadata": {},
   "outputs": [
    {
     "data": {
      "image/png": "[encoded data removed]",
      "text/plain": [
       "<Figure size 432x288 with 1 Axes>"
      ]
     },
     "metadata": {
      "needs_background": "light"
     },
     "output_type": "display_data"
    }
   ],
   "source": [
    "dataset['Treatment'].value_counts().plot(kind = 'bar')\n",
    "plt.title('Figure 2: Showing the number of mice given Memantine and Saline treatment')\n",
    "plt.xlabel('Treatment Type')\n",
    "plt.show()"
   ]
  },
  {
   "cell_type": "code",
   "execution_count": 24,
   "metadata": {},
   "outputs": [
    {
     "data": {
      "image/png": "[encoded data removed]",
      "text/plain": [
       "<Figure size 432x288 with 1 Axes>"
      ]
     },
     "metadata": {
      "needs_background": "light"
     },
     "output_type": "display_data"
    }
   ],
   "source": [
    "dataset['Behavior'].value_counts().plot(kind = 'barh')\n",
    "plt.title('Figure 3: Showing the number of mice who have been stimulated to learn, C/S and who have not been stimulated, S/C')\n",
    "plt.ylabel('Behavior')\n",
    "plt.show()"
   ]
  },
  {
   "cell_type": "code",
   "execution_count": 25,
   "metadata": {},
   "outputs": [
    {
     "data": {
      "image/png": "[encoded data removed]",
      "text/plain": [
       "<Figure size 432x288 with 1 Axes>"
      ]
     },
     "metadata": {},
     "output_type": "display_data"
    }
   ],
   "source": [
    "dataset['class'].value_counts().plot(kind = 'pie', autopct = '%.2f')\n",
    "plt.title('Figure 4: Showing the proportion of the different classes of mice')\n",
    "plt.show()"
   ]
  },
  {
   "cell_type": "code",
   "execution_count": 26,
   "metadata": {},
   "outputs": [
    {
     "data": {
      "image/png": "[encoded data removed]",
      "text/plain": [
       "<Figure size 432x288 with 1 Axes>"
      ]
     },
     "metadata": {
      "needs_background": "light"
     },
     "output_type": "display_data"
    }
   ],
   "source": [
    "dataset['DYRK1A_N'].plot(kind = 'box')\n",
    "plt.title('Figure 5: Box plot for the expression level of DYRK1A_N')\n",
    "plt.show()"
   ]
  },
  {
   "cell_type": "code",
   "execution_count": 27,
   "metadata": {},
   "outputs": [
    {
     "data": {
      "image/png": "[encoded data removed]",
      "text/plain": [
       "<Figure size 432x288 with 1 Axes>"
      ]
     },
     "metadata": {
      "needs_background": "light"
     },
     "output_type": "display_data"
    }
   ],
   "source": [
    "dataset['pCAMKII_N'].plot(kind = 'box')\n",
    "plt.title('Figure 6: Box plot for the expression level of pCAMKII_N')\n",
    "plt.show()"
   ]
  },
  {
   "cell_type": "code",
   "execution_count": 28,
   "metadata": {},
   "outputs": [
    {
     "data": {
      "image/png": "[encoded data removed]",
      "text/plain": [
       "<Figure size 432x288 with 1 Axes>"
      ]
     },
     "metadata": {
      "needs_background": "light"
     },
     "output_type": "display_data"
    }
   ],
   "source": [
    "dataset['pERK_N'].plot(kind = 'box')\n",
    "plt.title('Figure 7: Box plot for the expression level of pERK_N')\n",
    "plt.show()"
   ]
  },
  {
   "cell_type": "code",
   "execution_count": 29,
   "metadata": {},
   "outputs": [
    {
     "data": {
      "image/png": "[encoded data removed]",
      "text/plain": [
       "<Figure size 432x288 with 1 Axes>"
      ]
     },
     "metadata": {
      "needs_background": "light"
     },
     "output_type": "display_data"
    }
   ],
   "source": [
    "dataset['AKT_N'].plot(kind = 'box')\n",
    "plt.title('Figure 8: Box plot for the expression level of AKT_N')\n",
    "plt.show()"
   ]
  },
  {
   "cell_type": "code",
   "execution_count": 30,
   "metadata": {},
   "outputs": [
    {
     "data": {
      "image/png": "[encoded data removed]",
      "text/plain": [
       "<Figure size 432x288 with 1 Axes>"
      ]
     },
     "metadata": {
      "needs_background": "light"
     },
     "output_type": "display_data"
    }
   ],
   "source": [
    "dataset['P38_N'].plot(kind = 'box')\n",
    "plt.title('Figure 9: Box plot for the expression level of P38_N')\n",
    "plt.show()"
   ]
  },
  {
   "cell_type": "code",
   "execution_count": 31,
   "metadata": {},
   "outputs": [
    {
     "data": {
      "image/png": "[encoded data removed]",
      "text/plain": [
       "<Figure size 432x288 with 1 Axes>"
      ]
     },
     "metadata": {
      "needs_background": "light"
     },
     "output_type": "display_data"
    }
   ],
   "source": [
    "dataset['AcetylH3K9_N'].plot(kind = 'box')\n",
    "plt.title('Figure 10: Box plot for the expression level of AcetylH3K9_N')\n",
    "plt.show()"
   ]
  },
  {
   "cell_type": "code",
   "execution_count": 32,
   "metadata": {},
   "outputs": [],
   "source": [
    "#Task 2.2: Explore the relationship between pairs of attributes, atleast 10"
   ]
  },
  {
   "cell_type": "code",
   "execution_count": 33,
   "metadata": {},
   "outputs": [
    {
     "data": {
      "image/png": "[encoded data removed]",
      "text/plain": [
       "<Figure size 432x288 with 1 Axes>"
      ]
     },
     "metadata": {
      "needs_background": "light"
     },
     "output_type": "display_data"
    }
   ],
   "source": [
    "dataset.dropna().boxplot(column='pS6_N', by='Genotype')\n",
    "plt.title('Figure 11: Showing the box plot for pS6_N per Genotype group')\n",
    "plt.show()"
   ]
  },
  {
   "cell_type": "code",
   "execution_count": 34,
   "metadata": {},
   "outputs": [
    {
     "data": {
      "image/png": "[encoded data removed]",
      "text/plain": [
       "<Figure size 432x288 with 1 Axes>"
      ]
     },
     "metadata": {
      "needs_background": "light"
     },
     "output_type": "display_data"
    }
   ],
   "source": [
    "plt.scatter(dataset['ARC_N'],dataset['pS6_N'])\n",
    "plt.title('Figure 12: Showing the relationship between ARC_N and pS6_N')\n",
    "plt.xlabel('ARC_N')\n",
    "plt.ylabel('pS6_N')\n",
    "plt.show()"
   ]
  },
  {
   "cell_type": "code",
   "execution_count": 35,
   "metadata": {},
   "outputs": [
    {
     "data": {
      "image/png": "[encoded data removed]",
      "text/plain": [
       "<Figure size 432x288 with 1 Axes>"
      ]
     },
     "metadata": {
      "needs_background": "light"
     },
     "output_type": "display_data"
    }
   ],
   "source": [
    "plt.scatter(dataset['RRP1_N'],dataset['SYP_N'])\n",
    "plt.title('Figure 13: Showing the relationship between RRP1_N and SYP_N')\n",
    "plt.xlabel('RRP1_N')\n",
    "plt.ylabel('SYP_N')\n",
    "plt.show()"
   ]
  },
  {
   "cell_type": "code",
   "execution_count": 36,
   "metadata": {},
   "outputs": [
    {
     "data": {
      "image/png": "[encoded data removed]",
      "text/plain": [
       "<Figure size 432x288 with 1 Axes>"
      ]
     },
     "metadata": {
      "needs_background": "light"
     },
     "output_type": "display_data"
    }
   ],
   "source": [
    "dataset.dropna().boxplot(column='DYRK1A_N', by='Behavior')\n",
    "plt.title('Figure 14: Showing the box plot for DYRK1A_N per Behavior group')\n",
    "plt.show()"
   ]
  },
  {
   "cell_type": "code",
   "execution_count": 37,
   "metadata": {},
   "outputs": [
    {
     "data": {
      "image/png": "[encoded data removed]",
      "text/plain": [
       "<Figure size 432x288 with 1 Axes>"
      ]
     },
     "metadata": {
      "needs_background": "light"
     },
     "output_type": "display_data"
    }
   ],
   "source": [
    "dataset.dropna().boxplot(column='DYRK1A_N', by='class')\n",
    "plt.title('Figure 15: Showing the box plot for DYRK1A_N per class of mice')\n",
    "plt.show()"
   ]
  },
  {
   "cell_type": "code",
   "execution_count": 38,
   "metadata": {},
   "outputs": [
    {
     "data": {
      "image/png": "[encoded data removed]",
      "text/plain": [
       "<Figure size 432x288 with 1 Axes>"
      ]
     },
     "metadata": {
      "needs_background": "light"
     },
     "output_type": "display_data"
    }
   ],
   "source": [
    "dataset.dropna().boxplot(column='MTOR_N', by='class')\n",
    "plt.title('Figure 16: Showing the box plot for MTOR_N per class of mice')\n",
    "plt.show()"
   ]
  },
  {
   "cell_type": "code",
   "execution_count": 39,
   "metadata": {},
   "outputs": [
    {
     "data": {
      "image/png": "[encoded data removed]",
      "text/plain": [
       "<Figure size 432x288 with 1 Axes>"
      ]
     },
     "metadata": {
      "needs_background": "light"
     },
     "output_type": "display_data"
    }
   ],
   "source": [
    "plt.scatter(dataset['MTOR_N'],dataset['RRP1_N'])\n",
    "plt.title('Figure 17: Showing the relationship between RRP1_N and MTOR_N')\n",
    "plt.xlabel('MTOR_N')\n",
    "plt.ylabel('RRP1_N')\n",
    "plt.show()"
   ]
  },
  {
   "cell_type": "code",
   "execution_count": 40,
   "metadata": {},
   "outputs": [
    {
     "data": {
      "image/png": "[encoded data removed]",
      "text/plain": [
       "<Figure size 432x288 with 1 Axes>"
      ]
     },
     "metadata": {
      "needs_background": "light"
     },
     "output_type": "display_data"
    }
   ],
   "source": [
    "plt.scatter(dataset['ARC_N'],dataset['GFAP_N'])\n",
    "plt.title('Figure 18: Showing the relationship between ARC_N and GFAP_N')\n",
    "plt.xlabel('ARC_N')\n",
    "plt.ylabel('GFAP_N')\n",
    "plt.show()"
   ]
  },
  {
   "cell_type": "code",
   "execution_count": 41,
   "metadata": {},
   "outputs": [
    {
     "data": {
      "image/png": "[encoded data removed]",
      "text/plain": [
       "<Figure size 432x288 with 1 Axes>"
      ]
     },
     "metadata": {
      "needs_background": "light"
     },
     "output_type": "display_data"
    }
   ],
   "source": [
    "plt.scatter(dataset['ARC_N'],dataset['pCASP9_N'])\n",
    "plt.title('Figure 19: Showing the relationship between ARC_N and pCASP9_N')\n",
    "plt.xlabel('ARC_N')\n",
    "plt.ylabel('pCASP9_N')\n",
    "plt.show()"
   ]
  },
  {
   "cell_type": "code",
   "execution_count": 42,
   "metadata": {},
   "outputs": [
    {
     "data": {
      "image/png": "[encoded data removed]",
      "text/plain": [
       "<Figure size 432x288 with 1 Axes>"
      ]
     },
     "metadata": {
      "needs_background": "light"
     },
     "output_type": "display_data"
    }
   ],
   "source": [
    "plt.scatter(dataset['BAD_N'],dataset['H3AcK18_N'])\n",
    "plt.title('Figure 20: Showing the relationship between BAD_N and H3AcK18_N')\n",
    "plt.xlabel('BAD_N')\n",
    "plt.ylabel('H3AcK18_N')\n",
    "plt.show()"
   ]
  },
  {
   "cell_type": "code",
   "execution_count": 43,
   "metadata": {},
   "outputs": [],
   "source": [
    "#Task 3.1: Data Modelling"
   ]
  },
  {
   "cell_type": "code",
   "execution_count": 44,
   "metadata": {},
   "outputs": [],
   "source": [
    "from sklearn.model_selection import train_test_split"
   ]
  },
  {
   "cell_type": "code",
   "execution_count": 45,
   "metadata": {},
   "outputs": [],
   "source": [
    "#drop these columns as my aim is to work with the protein expression levels and class only\n",
    "dataset.drop(columns=['Genotype'], inplace=True)\n",
    "dataset.drop(columns=['Treatment'], inplace=True)\n",
    "dataset.drop(columns=['Behavior'], inplace=True)"
   ]
  },
  {
   "cell_type": "code",
   "execution_count": 46,
   "metadata": {},
   "outputs": [],
   "source": [
    "#Decision tree starts here"
   ]
  },
  {
   "cell_type": "code",
   "execution_count": 47,
   "metadata": {},
   "outputs": [],
   "source": [
    "feature_names= dataset.loc[:, 'DYRK1A_N':'CaNA_N']\n",
    "target_names = dataset['class']"
   ]
  },
  {
   "cell_type": "code",
   "execution_count": 48,
   "metadata": {},
   "outputs": [
    {
     "data": {
      "text/plain": [
       "78"
      ]
     },
     "execution_count": 48,
     "metadata": {},
     "output_type": "execute_result"
    }
   ],
   "source": [
    "len(dataset.columns)"
   ]
  },
  {
   "cell_type": "code",
   "execution_count": 49,
   "metadata": {},
   "outputs": [],
   "source": [
    "#split the data\n",
    "X= dataset.loc[:, 'DYRK1A_N':'CaNA_N']\n",
    "y = dataset.iloc[:,77]"
   ]
  },
  {
   "cell_type": "code",
   "execution_count": 50,
   "metadata": {},
   "outputs": [
    {
     "name": "stdout",
     "output_type": "stream",
     "text": [
      "      DYRK1A_N   ITSN1_N    BDNF_N     NR1_N    NR2A_N    pAKT_N   pBRAF_N  \\\n",
      "0     0.503644  0.747193  0.430175  2.816329  5.990152  0.218830  0.177565   \n",
      "1     0.514617  0.689064  0.411770  2.789514  5.685038  0.211636  0.172817   \n",
      "2     0.509183  0.730247  0.418309  2.687201  5.622059  0.209011  0.175722   \n",
      "3     0.442107  0.617076  0.358626  2.466947  4.979503  0.222886  0.176463   \n",
      "4     0.434940  0.617430  0.358802  2.365785  4.718679  0.213106  0.173627   \n",
      "...        ...       ...       ...       ...       ...       ...       ...   \n",
      "1075  0.254860  0.463591  0.254860  2.092082  2.600035  0.211736  0.171262   \n",
      "1076  0.272198  0.474163  0.251638  2.161390  2.801492  0.251274  0.182496   \n",
      "1077  0.228700  0.395179  0.234118  1.733184  2.220852  0.220665  0.161435   \n",
      "1078  0.221242  0.412894  0.243974  1.876347  2.384088  0.208897  0.173623   \n",
      "1079  0.302626  0.461059  0.256564  2.092790  2.594348  0.251001  0.191811   \n",
      "\n",
      "      pCAMKII_N   pCREB_N    pELK_N  ...     SHH_N     BAD_N    BCL2_N  \\\n",
      "0      2.373744  0.232224  1.750936  ...  0.188852  0.122652  0.134762   \n",
      "1      2.292150  0.226972  1.596377  ...  0.200404  0.116682  0.134762   \n",
      "2      2.283337  0.230247  1.561316  ...  0.193685  0.118508  0.134762   \n",
      "3      2.152301  0.207004  1.595086  ...  0.192112  0.132781  0.134762   \n",
      "4      2.134014  0.192158  1.504230  ...  0.205604  0.129954  0.134762   \n",
      "...         ...       ...       ...  ...       ...       ...       ...   \n",
      "1075   2.483740  0.207317  1.057971  ...  0.275547  0.190483  0.134762   \n",
      "1076   2.512737  0.216339  1.081150  ...  0.283207  0.190463  0.134762   \n",
      "1077   1.989723  0.185164  0.884342  ...  0.290843  0.216682  0.134762   \n",
      "1078   2.086028  0.192044  0.922595  ...  0.306701  0.222263  0.134762   \n",
      "1079   2.361816  0.223632  1.064085  ...  0.292330  0.227606  0.134762   \n",
      "\n",
      "         pS6_N   pCFOS_N     SYP_N  H3AcK18_N    EGR1_N  H3MeK4_N    CaNA_N  \n",
      "0     0.106305  0.108336  0.427099   0.114783  0.131790  0.128186  1.675652  \n",
      "1     0.106592  0.104315  0.441581   0.111974  0.135103  0.131119  1.743610  \n",
      "2     0.108303  0.106219  0.435777   0.111883  0.133362  0.127431  1.926427  \n",
      "3     0.103184  0.111262  0.391691   0.130405  0.147444  0.146901  1.700563  \n",
      "4     0.104784  0.110694  0.434154   0.118481  0.140314  0.148380  1.839730  \n",
      "...        ...       ...       ...        ...       ...       ...       ...  \n",
      "1075  0.115806  0.183324  0.374088   0.318782  0.204660  0.328327  1.364823  \n",
      "1076  0.113614  0.175674  0.375259   0.325639  0.200415  0.293435  1.364478  \n",
      "1077  0.118948  0.158296  0.422121   0.321306  0.229193  0.355213  1.430825  \n",
      "1078  0.125295  0.196296  0.397676   0.335936  0.251317  0.365353  1.404031  \n",
      "1079  0.118899  0.187556  0.420347   0.335062  0.252995  0.365278  1.370999  \n",
      "\n",
      "[1080 rows x 77 columns]\n"
     ]
    }
   ],
   "source": [
    "print (X)"
   ]
  },
  {
   "cell_type": "code",
   "execution_count": 51,
   "metadata": {},
   "outputs": [
    {
     "name": "stdout",
     "output_type": "stream",
     "text": [
      "0       c-CS-m\n",
      "1       c-CS-m\n",
      "2       c-CS-m\n",
      "3       c-CS-m\n",
      "4       c-CS-m\n",
      "         ...  \n",
      "1075    t-SC-s\n",
      "1076    t-SC-s\n",
      "1077    t-SC-s\n",
      "1078    t-SC-s\n",
      "1079    t-SC-s\n",
      "Name: class, Length: 1080, dtype: object\n"
     ]
    }
   ],
   "source": [
    "print (y)"
   ]
  },
  {
   "cell_type": "code",
   "execution_count": 52,
   "metadata": {},
   "outputs": [],
   "source": [
    "from sklearn.tree import DecisionTreeClassifier"
   ]
  },
  {
   "cell_type": "code",
   "execution_count": 53,
   "metadata": {},
   "outputs": [
    {
     "name": "stdout",
     "output_type": "stream",
     "text": [
      "2, 0.8564814814814815\n"
     ]
    }
   ],
   "source": [
    "#find the best possible min_samples_split value for test size 20%\n",
    "cur_best = 0\n",
    "k_value = 0\n",
    "\n",
    "for k in range(2,40):\n",
    "    X_train, X_test, y_train, y_test = train_test_split(X, y, test_size=0.20,random_state=1)\n",
    "    clf = DecisionTreeClassifier(min_samples_split=k, random_state=0)\n",
    "    fit = clf.fit(X_train, y_train)\n",
    "    cur_score = clf.score(X_test, y_test)\n",
    "    if cur_score>cur_best:\n",
    "        cur_best = cur_score\n",
    "        k_value = k\n",
    "        \n",
    "print (str(k_value) +\", \"+ str(cur_best))\n"
   ]
  },
  {
   "cell_type": "code",
   "execution_count": 54,
   "metadata": {},
   "outputs": [
    {
     "name": "stdout",
     "output_type": "stream",
     "text": [
      "2, 0.8449074074074074\n"
     ]
    }
   ],
   "source": [
    "#find the best possible min_samples_split value for test size 40%\n",
    "cur_best = 0\n",
    "k_value = 0\n",
    "\n",
    "for k in range(2,40):\n",
    "    X_train, X_test, y_train, y_test = train_test_split(X, y, test_size=0.40,random_state=1)\n",
    "    clf = DecisionTreeClassifier(min_samples_split=k, random_state=0)\n",
    "    fit = clf.fit(X_train, y_train)\n",
    "    cur_score = clf.score(X_test, y_test)\n",
    "    if cur_score>cur_best:\n",
    "        cur_best = cur_score\n",
    "        k_value = k\n",
    "        \n",
    "print (str(k_value) +\", \"+ str(cur_best))"
   ]
  },
  {
   "cell_type": "code",
   "execution_count": 55,
   "metadata": {},
   "outputs": [
    {
     "name": "stdout",
     "output_type": "stream",
     "text": [
      "4, 0.8611111111111112\n"
     ]
    }
   ],
   "source": [
    "#find the best possible min_samples_split value for test size 10%\n",
    "cur_best = 0\n",
    "k_value = 0\n",
    "\n",
    "for k in range(2,40):\n",
    "    X_train, X_test, y_train, y_test = train_test_split(X, y, test_size=0.10,random_state=1)\n",
    "    clf = DecisionTreeClassifier(min_samples_split=k, random_state=0)\n",
    "    fit = clf.fit(X_train, y_train)\n",
    "    cur_score = clf.score(X_test, y_test)\n",
    "    if cur_score>cur_best:\n",
    "        cur_best = cur_score\n",
    "        k_value = k\n",
    "        \n",
    "print (str(k_value) +\", \"+ str(cur_best))"
   ]
  },
  {
   "cell_type": "code",
   "execution_count": 56,
   "metadata": {},
   "outputs": [
    {
     "name": "stdout",
     "output_type": "stream",
     "text": [
      "2, 0.7808641975308642\n"
     ]
    }
   ],
   "source": [
    "#find the best possible min_samples_split value for test size 60%\n",
    "cur_best = 0\n",
    "k_value = 0\n",
    "\n",
    "for k in range(2,50):\n",
    "    X_train, X_test, y_train, y_test = train_test_split(X, y, test_size=0.60,random_state=1)\n",
    "    clf = DecisionTreeClassifier(min_samples_split=k, random_state=0)\n",
    "    fit = clf.fit(X_train, y_train)\n",
    "    cur_score = clf.score(X_test, y_test)\n",
    "    if cur_score>cur_best:\n",
    "        cur_best = cur_score\n",
    "        k_value = k\n",
    "        \n",
    "print (str(k_value) +\", \"+ str(cur_best))"
   ]
  },
  {
   "cell_type": "code",
   "execution_count": 57,
   "metadata": {},
   "outputs": [
    {
     "name": "stdout",
     "output_type": "stream",
     "text": [
      "10, 0.8888888888888888\n"
     ]
    }
   ],
   "source": [
    "#find the best possible min_samples_split value for test size 5%\n",
    "cur_best = 0\n",
    "k_value = 0\n",
    "\n",
    "for k in range(2,40):\n",
    "    X_train, X_test, y_train, y_test = train_test_split(X, y, test_size=0.05,random_state=1)\n",
    "    clf = DecisionTreeClassifier(min_samples_split=k, random_state=0)\n",
    "    fit = clf.fit(X_train, y_train)\n",
    "    cur_score = clf.score(X_test, y_test)\n",
    "    if cur_score>cur_best:\n",
    "        cur_best = cur_score\n",
    "        k_value = k\n",
    "        \n",
    "print (str(k_value) +\", \"+ str(cur_best))"
   ]
  },
  {
   "cell_type": "code",
   "execution_count": 58,
   "metadata": {},
   "outputs": [
    {
     "name": "stdout",
     "output_type": "stream",
     "text": [
      "7, 0.8703703703703703\n"
     ]
    }
   ],
   "source": [
    "#find the best possible max_depth value for test size of 5%\n",
    "cur_best = 0\n",
    "k_value = 0\n",
    "\n",
    "for k in range(1,50):\n",
    "    X_train, X_test, y_train, y_test = train_test_split(X, y, test_size=0.05,random_state=1)\n",
    "    clf = DecisionTreeClassifier(max_depth=k, random_state=0)\n",
    "    fit = clf.fit(X_train, y_train)\n",
    "    cur_score = clf.score(X_test, y_test)\n",
    "    if cur_score>cur_best:\n",
    "        cur_best = cur_score\n",
    "        k_value = k\n",
    "        \n",
    "print (str(k_value) +\", \"+ str(cur_best))"
   ]
  },
  {
   "cell_type": "code",
   "execution_count": 59,
   "metadata": {},
   "outputs": [
    {
     "name": "stdout",
     "output_type": "stream",
     "text": [
      "7, 0.8425925925925926\n"
     ]
    }
   ],
   "source": [
    "#find the best possible max_depth value for test size of 10%\n",
    "cur_best = 0\n",
    "k_value = 0\n",
    "\n",
    "for k in range(1,50):\n",
    "    X_train, X_test, y_train, y_test = train_test_split(X, y, test_size=0.1,random_state=1)\n",
    "    clf = DecisionTreeClassifier(max_depth=k, random_state=0)\n",
    "    fit = clf.fit(X_train, y_train)\n",
    "    cur_score = clf.score(X_test, y_test)\n",
    "    if cur_score>cur_best:\n",
    "        cur_best = cur_score\n",
    "        k_value = k\n",
    "        \n",
    "print (str(k_value) +\", \"+ str(cur_best))"
   ]
  },
  {
   "cell_type": "code",
   "execution_count": 60,
   "metadata": {},
   "outputs": [
    {
     "name": "stdout",
     "output_type": "stream",
     "text": [
      "8, 0.8611111111111112\n"
     ]
    }
   ],
   "source": [
    "#find the best possible max_depth value for test size of 20%\n",
    "cur_best = 0\n",
    "k_value = 0\n",
    "\n",
    "for k in range(1,50):\n",
    "    X_train, X_test, y_train, y_test = train_test_split(X, y, test_size=0.2,random_state=1)\n",
    "    clf = DecisionTreeClassifier(max_depth=k, random_state=0)\n",
    "    fit = clf.fit(X_train, y_train)\n",
    "    cur_score = clf.score(X_test, y_test)\n",
    "    if cur_score>cur_best:\n",
    "        cur_best = cur_score\n",
    "        k_value = k\n",
    "        \n",
    "print (str(k_value) +\", \"+ str(cur_best))"
   ]
  },
  {
   "cell_type": "code",
   "execution_count": 61,
   "metadata": {},
   "outputs": [
    {
     "name": "stdout",
     "output_type": "stream",
     "text": [
      "9, 0.8449074074074074\n"
     ]
    }
   ],
   "source": [
    "#find the best possible max_depth value for test size of 40%\n",
    "cur_best = 0\n",
    "k_value = 0\n",
    "\n",
    "for k in range(1,50):\n",
    "    X_train, X_test, y_train, y_test = train_test_split(X, y, test_size=0.4,random_state=1)\n",
    "    clf = DecisionTreeClassifier(max_depth=k, random_state=0)\n",
    "    fit = clf.fit(X_train, y_train)\n",
    "    cur_score = clf.score(X_test, y_test)\n",
    "    if cur_score>cur_best:\n",
    "        cur_best = cur_score\n",
    "        k_value = k\n",
    "        \n",
    "print (str(k_value) +\", \"+ str(cur_best))\n",
    "\n"
   ]
  },
  {
   "cell_type": "code",
   "execution_count": 62,
   "metadata": {},
   "outputs": [
    {
     "name": "stdout",
     "output_type": "stream",
     "text": [
      "8, 0.7981481481481482\n"
     ]
    }
   ],
   "source": [
    "#find the best possible max_depth value for test size of 50%\n",
    "cur_best = 0\n",
    "k_value = 0\n",
    "\n",
    "for k in range(1,50):\n",
    "    X_train, X_test, y_train, y_test = train_test_split(X, y, test_size=0.5,random_state=1)\n",
    "    clf = DecisionTreeClassifier(max_depth=k, random_state=0)\n",
    "    fit = clf.fit(X_train, y_train)\n",
    "    cur_score = clf.score(X_test, y_test)\n",
    "    if cur_score>cur_best:\n",
    "        cur_best = cur_score\n",
    "        k_value = k\n",
    "        \n",
    "print (str(k_value) +\", \"+ str(cur_best))"
   ]
  },
  {
   "cell_type": "code",
   "execution_count": 63,
   "metadata": {},
   "outputs": [
    {
     "name": "stdout",
     "output_type": "stream",
     "text": [
      "7, 0.7870370370370371\n"
     ]
    }
   ],
   "source": [
    "#find the best possible max_depth value for test size of 60%\n",
    "cur_best = 0\n",
    "k_value = 0\n",
    "\n",
    "for k in range(1,50):\n",
    "    X_train, X_test, y_train, y_test = train_test_split(X, y, test_size=0.6,random_state=1)\n",
    "    clf = DecisionTreeClassifier(max_depth=k, random_state=0)\n",
    "    fit = clf.fit(X_train, y_train)\n",
    "    cur_score = clf.score(X_test, y_test)\n",
    "    if cur_score>cur_best:\n",
    "        cur_best = cur_score\n",
    "        k_value = k\n",
    "        \n",
    "print (str(k_value) +\", \"+ str(cur_best))"
   ]
  },
  {
   "cell_type": "code",
   "execution_count": 64,
   "metadata": {},
   "outputs": [
    {
     "name": "stdout",
     "output_type": "stream",
     "text": [
      "3, 0.8888888888888888\n"
     ]
    }
   ],
   "source": [
    "#find the best possible min_samples_leaf value for test size 5%\n",
    "cur_best = 0\n",
    "k_value = 0\n",
    "\n",
    "for k in range(2,20):\n",
    "    X_train, X_test, y_train, y_test = train_test_split(X, y, test_size=0.05,random_state=1)\n",
    "    clf = DecisionTreeClassifier(min_samples_leaf=k, random_state=0)\n",
    "    fit = clf.fit(X_train, y_train)\n",
    "    cur_score = clf.score(X_test, y_test)\n",
    "    if cur_score>cur_best:\n",
    "        cur_best = cur_score\n",
    "        k_value = k\n",
    "        \n",
    "print (str(k_value) +\", \"+ str(cur_best))"
   ]
  },
  {
   "cell_type": "code",
   "execution_count": 65,
   "metadata": {},
   "outputs": [
    {
     "name": "stdout",
     "output_type": "stream",
     "text": [
      "2, 0.8425925925925926\n"
     ]
    }
   ],
   "source": [
    "#find the best possible min_samples_leaf value for test size 10%\n",
    "cur_best = 0\n",
    "k_value = 0\n",
    "\n",
    "for k in range(2,20):\n",
    "    X_train, X_test, y_train, y_test = train_test_split(X, y, test_size=0.1,random_state=1)\n",
    "    clf = DecisionTreeClassifier(min_samples_leaf=k, random_state=0)\n",
    "    fit = clf.fit(X_train, y_train)\n",
    "    cur_score = clf.score(X_test, y_test)\n",
    "    if cur_score>cur_best:\n",
    "        cur_best = cur_score\n",
    "        k_value = k\n",
    "        \n",
    "print (str(k_value) +\", \"+ str(cur_best))"
   ]
  },
  {
   "cell_type": "code",
   "execution_count": 66,
   "metadata": {},
   "outputs": [
    {
     "name": "stdout",
     "output_type": "stream",
     "text": [
      "4, 0.8287037037037037\n"
     ]
    }
   ],
   "source": [
    "#find the best possible min_samples_leaf value for test size 20%\n",
    "cur_best = 0\n",
    "k_value = 0\n",
    "\n",
    "for k in range(2,20):\n",
    "    X_train, X_test, y_train, y_test = train_test_split(X, y, test_size=0.2,random_state=1)\n",
    "    clf = DecisionTreeClassifier(min_samples_leaf=k, random_state=0)\n",
    "    fit = clf.fit(X_train, y_train)\n",
    "    cur_score = clf.score(X_test, y_test)\n",
    "    if cur_score>cur_best:\n",
    "        cur_best = cur_score\n",
    "        k_value = k\n",
    "        \n",
    "print (str(k_value) +\", \"+ str(cur_best))\n",
    "\n",
    "\n",
    "\n"
   ]
  },
  {
   "cell_type": "code",
   "execution_count": 67,
   "metadata": {},
   "outputs": [
    {
     "name": "stdout",
     "output_type": "stream",
     "text": [
      "4, 0.8171296296296297\n"
     ]
    }
   ],
   "source": [
    "#find the best possible min_samples_leaf value for test size 40%\n",
    "cur_best = 0\n",
    "k_value = 0\n",
    "\n",
    "for k in range(2,20):\n",
    "    X_train, X_test, y_train, y_test = train_test_split(X, y, test_size=0.4,random_state=1)\n",
    "    clf = DecisionTreeClassifier(min_samples_leaf=k, random_state=0)\n",
    "    fit = clf.fit(X_train, y_train)\n",
    "    cur_score = clf.score(X_test, y_test)\n",
    "    if cur_score>cur_best:\n",
    "        cur_best = cur_score\n",
    "        k_value = k\n",
    "        \n",
    "print (str(k_value) +\", \"+ str(cur_best))"
   ]
  },
  {
   "cell_type": "code",
   "execution_count": 68,
   "metadata": {},
   "outputs": [
    {
     "name": "stdout",
     "output_type": "stream",
     "text": [
      "2, 0.7530864197530864\n"
     ]
    }
   ],
   "source": [
    "#find the best possible min_samples_leaf value for test size 60%\n",
    "cur_best = 0\n",
    "k_value = 0\n",
    "\n",
    "for k in range(2,20):\n",
    "    X_train, X_test, y_train, y_test = train_test_split(X, y, test_size=0.6,random_state=1)\n",
    "    clf = DecisionTreeClassifier(min_samples_leaf=k, random_state=0)\n",
    "    fit = clf.fit(X_train, y_train)\n",
    "    cur_score = clf.score(X_test, y_test)\n",
    "    if cur_score>cur_best:\n",
    "        cur_best = cur_score\n",
    "        k_value = k\n",
    "        \n",
    "print (str(k_value) +\", \"+ str(cur_best))"
   ]
  },
  {
   "cell_type": "code",
   "execution_count": 69,
   "metadata": {},
   "outputs": [
    {
     "name": "stdout",
     "output_type": "stream",
     "text": [
      "3, 0.7777777777777778\n"
     ]
    }
   ],
   "source": [
    "#find the best possible min_samples_leaf value for test size 50%\n",
    "cur_best = 0\n",
    "k_value = 0\n",
    "\n",
    "for k in range(2,20):\n",
    "    X_train, X_test, y_train, y_test = train_test_split(X, y, test_size=0.5,random_state=1)\n",
    "    clf = DecisionTreeClassifier(min_samples_leaf=k, random_state=0)\n",
    "    fit = clf.fit(X_train, y_train)\n",
    "    cur_score = clf.score(X_test, y_test)\n",
    "    if cur_score>cur_best:\n",
    "        cur_best = cur_score\n",
    "        k_value = k\n",
    "        \n",
    "print (str(k_value) +\", \"+ str(cur_best))"
   ]
  },
  {
   "cell_type": "code",
   "execution_count": 70,
   "metadata": {},
   "outputs": [
    {
     "name": "stdout",
     "output_type": "stream",
     "text": [
      "6, 0.8518518518518519\n"
     ]
    }
   ],
   "source": [
    "#find the best possible max_features value for test size 5%\n",
    "cur_best = 0\n",
    "k_value = 0\n",
    "\n",
    "for k in range(1,12):\n",
    "    X_train, X_test, y_train, y_test = train_test_split(X, y, test_size=0.05,random_state=1)\n",
    "    clf = DecisionTreeClassifier(max_features=k, random_state=0)\n",
    "    fit = clf.fit(X_train, y_train)\n",
    "    cur_score = clf.score(X_test, y_test)\n",
    "    if cur_score>cur_best:\n",
    "        cur_best = cur_score\n",
    "        k_value = k\n",
    "        \n",
    "print (str(k_value) +\", \"+ str(cur_best))\n",
    "\n"
   ]
  },
  {
   "cell_type": "code",
   "execution_count": 71,
   "metadata": {},
   "outputs": [
    {
     "name": "stdout",
     "output_type": "stream",
     "text": [
      "8, 0.8425925925925926\n"
     ]
    }
   ],
   "source": [
    "#find the best possible max_features value for test size 10%\n",
    "cur_best = 0\n",
    "k_value = 0\n",
    "\n",
    "for k in range(1,12):\n",
    "    X_train, X_test, y_train, y_test = train_test_split(X, y, test_size=0.1,random_state=1)\n",
    "    clf = DecisionTreeClassifier(max_features=k, random_state=0)\n",
    "    fit = clf.fit(X_train, y_train)\n",
    "    cur_score = clf.score(X_test, y_test)\n",
    "    if cur_score>cur_best:\n",
    "        cur_best = cur_score\n",
    "        k_value = k\n",
    "        \n",
    "print (str(k_value) +\", \"+ str(cur_best))"
   ]
  },
  {
   "cell_type": "code",
   "execution_count": 72,
   "metadata": {},
   "outputs": [
    {
     "name": "stdout",
     "output_type": "stream",
     "text": [
      "8, 0.8379629629629629\n"
     ]
    }
   ],
   "source": [
    "#find the best possible max_features value for test size 20%\n",
    "cur_best = 0\n",
    "k_value = 0\n",
    "\n",
    "for k in range(1,12):\n",
    "    X_train, X_test, y_train, y_test = train_test_split(X, y, test_size=0.2,random_state=1)\n",
    "    clf = DecisionTreeClassifier(max_features=k, random_state=0)\n",
    "    fit = clf.fit(X_train, y_train)\n",
    "    cur_score = clf.score(X_test, y_test)\n",
    "    if cur_score>cur_best:\n",
    "        cur_best = cur_score\n",
    "        k_value = k\n",
    "        \n",
    "print (str(k_value) +\", \"+ str(cur_best))"
   ]
  },
  {
   "cell_type": "code",
   "execution_count": 73,
   "metadata": {},
   "outputs": [
    {
     "name": "stdout",
     "output_type": "stream",
     "text": [
      "8, 0.7777777777777778\n"
     ]
    }
   ],
   "source": [
    "#find the best possible max_features value for test size 40%\n",
    "cur_best = 0\n",
    "k_value = 0\n",
    "\n",
    "for k in range(1,12):\n",
    "    X_train, X_test, y_train, y_test = train_test_split(X, y, test_size=0.4,random_state=1)\n",
    "    clf = DecisionTreeClassifier(max_features=k, random_state=0)\n",
    "    fit = clf.fit(X_train, y_train)\n",
    "    cur_score = clf.score(X_test, y_test)\n",
    "    if cur_score>cur_best:\n",
    "        cur_best = cur_score\n",
    "        k_value = k\n",
    "        \n",
    "print (str(k_value) +\", \"+ str(cur_best))"
   ]
  },
  {
   "cell_type": "code",
   "execution_count": 74,
   "metadata": {},
   "outputs": [
    {
     "name": "stdout",
     "output_type": "stream",
     "text": [
      "10, 0.75\n"
     ]
    }
   ],
   "source": [
    "#find the best possible max_features value for test size 50%\n",
    "cur_best = 0\n",
    "k_value = 0\n",
    "\n",
    "for k in range(1,12):\n",
    "    X_train, X_test, y_train, y_test = train_test_split(X, y, test_size=0.5,random_state=1)\n",
    "    clf = DecisionTreeClassifier(max_features=k, random_state=0)\n",
    "    fit = clf.fit(X_train, y_train)\n",
    "    cur_score = clf.score(X_test, y_test)\n",
    "    if cur_score>cur_best:\n",
    "        cur_best = cur_score\n",
    "        k_value = k\n",
    "        \n",
    "print (str(k_value) +\", \"+ str(cur_best))\n",
    "\n",
    "\n",
    "\n"
   ]
  },
  {
   "cell_type": "code",
   "execution_count": 75,
   "metadata": {},
   "outputs": [
    {
     "name": "stdout",
     "output_type": "stream",
     "text": [
      "41, 0.8148148148148148\n"
     ]
    }
   ],
   "source": [
    "#find the best possible max_leaf_nodes value for test size 5%\n",
    "cur_best = 0\n",
    "k_value = 0\n",
    "\n",
    "for k in range(2,50):\n",
    "    X_train, X_test, y_train, y_test = train_test_split(X, y, test_size=0.05,random_state=1)\n",
    "    clf = DecisionTreeClassifier(max_leaf_nodes=k, random_state=0)\n",
    "    fit = clf.fit(X_train, y_train)\n",
    "    cur_score = clf.score(X_test, y_test)\n",
    "    if cur_score>cur_best:\n",
    "        cur_best = cur_score\n",
    "        k_value = k\n",
    "        \n",
    "print (str(k_value) +\", \"+ str(cur_best))"
   ]
  },
  {
   "cell_type": "code",
   "execution_count": 76,
   "metadata": {},
   "outputs": [
    {
     "name": "stdout",
     "output_type": "stream",
     "text": [
      "45, 0.8055555555555556\n"
     ]
    }
   ],
   "source": [
    "#find the best possible max_leaf_nodes value for test size 10%\n",
    "cur_best = 0\n",
    "k_value = 0\n",
    "\n",
    "for k in range(2,50):\n",
    "    X_train, X_test, y_train, y_test = train_test_split(X, y, test_size=0.1,random_state=1)\n",
    "    clf = DecisionTreeClassifier(max_leaf_nodes=k, random_state=0)\n",
    "    fit = clf.fit(X_train, y_train)\n",
    "    cur_score = clf.score(X_test, y_test)\n",
    "    if cur_score>cur_best:\n",
    "        cur_best = cur_score\n",
    "        k_value = k\n",
    "        \n",
    "print (str(k_value) +\", \"+ str(cur_best))\n",
    "\n",
    "\n"
   ]
  },
  {
   "cell_type": "code",
   "execution_count": 77,
   "metadata": {},
   "outputs": [
    {
     "name": "stdout",
     "output_type": "stream",
     "text": [
      "39, 0.8333333333333334\n"
     ]
    }
   ],
   "source": [
    "#find the best possible max_leaf_nodes value for test size 20%\n",
    "cur_best = 0\n",
    "k_value = 0\n",
    "\n",
    "for k in range(2,50):\n",
    "    X_train, X_test, y_train, y_test = train_test_split(X, y, test_size=0.2,random_state=1)\n",
    "    clf = DecisionTreeClassifier(max_leaf_nodes=k, random_state=0)\n",
    "    fit = clf.fit(X_train, y_train)\n",
    "    cur_score = clf.score(X_test, y_test)\n",
    "    if cur_score>cur_best:\n",
    "        cur_best = cur_score\n",
    "        k_value = k\n",
    "        \n",
    "print (str(k_value) +\", \"+ str(cur_best))"
   ]
  },
  {
   "cell_type": "code",
   "execution_count": 78,
   "metadata": {},
   "outputs": [
    {
     "name": "stdout",
     "output_type": "stream",
     "text": [
      "45, 0.8240740740740741\n"
     ]
    }
   ],
   "source": [
    "#find the best possible max_leaf_nodes value for test size 40%\n",
    "cur_best = 0\n",
    "k_value = 0\n",
    "\n",
    "for k in range(2,50):\n",
    "    X_train, X_test, y_train, y_test = train_test_split(X, y, test_size=0.4,random_state=1)\n",
    "    clf = DecisionTreeClassifier(max_leaf_nodes=k, random_state=0)\n",
    "    fit = clf.fit(X_train, y_train)\n",
    "    cur_score = clf.score(X_test, y_test)\n",
    "    if cur_score>cur_best:\n",
    "        cur_best = cur_score\n",
    "        k_value = k\n",
    "        \n",
    "print (str(k_value) +\", \"+ str(cur_best))"
   ]
  },
  {
   "cell_type": "code",
   "execution_count": 79,
   "metadata": {},
   "outputs": [
    {
     "name": "stdout",
     "output_type": "stream",
     "text": [
      "43, 0.7762345679012346\n"
     ]
    }
   ],
   "source": [
    "#find the best possible max_leaf_nodes value for test size 60%\n",
    "cur_best = 0\n",
    "k_value = 0\n",
    "\n",
    "for k in range(2,50):\n",
    "    X_train, X_test, y_train, y_test = train_test_split(X, y, test_size=0.6,random_state=1)\n",
    "    clf = DecisionTreeClassifier(max_leaf_nodes=k, random_state=0)\n",
    "    fit = clf.fit(X_train, y_train)\n",
    "    cur_score = clf.score(X_test, y_test)\n",
    "    if cur_score>cur_best:\n",
    "        cur_best = cur_score\n",
    "        k_value = k\n",
    "        \n",
    "print (str(k_value) +\", \"+ str(cur_best))"
   ]
  },
  {
   "cell_type": "code",
   "execution_count": 80,
   "metadata": {},
   "outputs": [],
   "source": [
    "from sklearn.utils import shuffle"
   ]
  },
  {
   "cell_type": "code",
   "execution_count": 81,
   "metadata": {},
   "outputs": [],
   "source": [
    "dataset_array = dataset.values"
   ]
  },
  {
   "cell_type": "code",
   "execution_count": 82,
   "metadata": {},
   "outputs": [
    {
     "name": "stdout",
     "output_type": "stream",
     "text": [
      "Score with 1 selected features: 0.18518518518518517\n",
      "Score with 2 selected features: 0.2824074074074074\n",
      "Score with 3 selected features: 0.3101851851851852\n",
      "Score with 4 selected features: 0.3611111111111111\n",
      "Score with 5 selected features: 0.42592592592592593\n",
      "Score with 6 selected features: 0.42592592592592593\n",
      "Score with 7 selected features: 0.4444444444444444\n",
      "Score with 8 selected features: 0.5\n",
      "Score with 9 selected features: 0.5740740740740741\n",
      "Score with 10 selected features: 0.6157407407407407\n",
      "Score with 11 selected features: 0.6296296296296297\n",
      "Score with 12 selected features: 0.6712962962962963\n",
      "Score with 13 selected features: 0.7037037037037037\n",
      "Score with 14 selected features: 0.7129629629629629\n",
      "Score with 15 selected features: 0.7222222222222222\n",
      "Score with 16 selected features: 0.7314814814814815\n",
      "Score with 17 selected features: 0.7546296296296297\n",
      "Score with 18 selected features: 0.7685185185185185\n",
      "Score with 19 selected features: 0.7731481481481481\n",
      "Score with 20 selected features: 0.7731481481481481\n",
      "Score with 21 selected features: 0.7731481481481481\n",
      "Score with 22 selected features: 0.7731481481481481\n",
      "Score with 23 selected features: 0.7916666666666666\n",
      "Score with 24 selected features: 0.7916666666666666\n",
      "Score with 25 selected features: 0.7962962962962963\n",
      "Score with 26 selected features: 0.8055555555555556\n"
     ]
    }
   ],
   "source": [
    "#Hill climbing for 20% test size and 80% training size\n",
    "new_Ind = []\n",
    "cur_MaxScore = 0.0\n",
    "col_num = 77\n",
    "col_Ind_Random = shuffle(range(0, col_num), random_state = 1)\n",
    "for cur_f in range(col_num):\n",
    "    new_Ind.append(col_Ind_Random[cur_f])\n",
    "    newData = dataset_array[:, new_Ind]\n",
    "    X_train, X_test, y_train, y_test = train_test_split(newData, y, test_size=0.2, random_state=1)\n",
    "    clf = DecisionTreeClassifier(criterion='gini', max_depth=9, min_samples_split=10, min_samples_leaf=4, max_leaf_nodes=45,random_state=0)\n",
    "    fit = clf.fit(X_train, y_train)\n",
    "    cur_Score = clf.score(X_test, y_test)\n",
    "    if cur_Score < cur_MaxScore:\n",
    "        new_Ind.remove(col_Ind_Random[cur_f])\n",
    "    else:\n",
    "        cur_MaxScore = cur_Score\n",
    "        print (\"Score with \" + str(len(new_Ind)) + \" selected features: \" + str(cur_Score))"
   ]
  },
  {
   "cell_type": "code",
   "execution_count": 83,
   "metadata": {},
   "outputs": [
    {
     "name": "stdout",
     "output_type": "stream",
     "text": [
      "There are 26 features selected.\n"
     ]
    }
   ],
   "source": [
    "print(\"There are \" + str(len(new_Ind)) + \" features selected.\")"
   ]
  },
  {
   "cell_type": "code",
   "execution_count": 84,
   "metadata": {},
   "outputs": [
    {
     "name": "stdout",
     "output_type": "stream",
     "text": [
      "[31, 43, 26, 74, 58, 59, 36, 57, 10, 53, 27, 46, 15, 45, 76, 63, 75, 55, 44, 47, 24, 69, 32, 49, 54, 4]\n"
     ]
    }
   ],
   "source": [
    "print(new_Ind)\n"
   ]
  },
  {
   "cell_type": "code",
   "execution_count": 85,
   "metadata": {},
   "outputs": [
    {
     "data": {
      "text/plain": [
       "Index(['DYRK1A_N', 'ITSN1_N', 'BDNF_N', 'NR1_N', 'NR2A_N', 'pAKT_N', 'pBRAF_N',\n",
       "       'pCAMKII_N', 'pCREB_N', 'pELK_N', 'pERK_N', 'pJNK_N', 'PKCA_N',\n",
       "       'pMEK_N', 'pNR1_N', 'pNR2A_N', 'pNR2B_N', 'pPKCAB_N', 'pRSK_N', 'AKT_N',\n",
       "       'BRAF_N', 'CAMKII_N', 'CREB_N', 'ELK_N', 'ERK_N', 'GSK3B_N', 'JNK_N',\n",
       "       'MEK_N', 'TRKA_N', 'RSK_N', 'APP_N', 'Bcatenin_N', 'SOD1_N', 'MTOR_N',\n",
       "       'P38_N', 'pMTOR_N', 'DSCR1_N', 'AMPKA_N', 'NR2B_N', 'pNUMB_N',\n",
       "       'RAPTOR_N', 'TIAM1_N', 'pP70S6_N', 'NUMB_N', 'P70S6_N', 'pGSK3B_N',\n",
       "       'pPKCG_N', 'CDK5_N', 'S6_N', 'ADARB1_N', 'AcetylH3K9_N', 'RRP1_N',\n",
       "       'BAX_N', 'ARC_N', 'ERBB4_N', 'nNOS_N', 'Tau_N', 'GFAP_N', 'GluR3_N',\n",
       "       'GluR4_N', 'IL1B_N', 'P3525_N', 'pCASP9_N', 'PSD95_N', 'SNCA_N',\n",
       "       'Ubiquitin_N', 'pGSK3B_Tyr216_N', 'SHH_N', 'BAD_N', 'BCL2_N', 'pS6_N',\n",
       "       'pCFOS_N', 'SYP_N', 'H3AcK18_N', 'EGR1_N', 'H3MeK4_N', 'CaNA_N',\n",
       "       'class'],\n",
       "      dtype='object')"
      ]
     },
     "execution_count": 85,
     "metadata": {},
     "output_type": "execute_result"
    }
   ],
   "source": [
    "#print all column names of dataset\n",
    "dataset.columns"
   ]
  },
  {
   "cell_type": "code",
   "execution_count": 86,
   "metadata": {},
   "outputs": [
    {
     "data": {
      "text/plain": [
       "78"
      ]
     },
     "execution_count": 86,
     "metadata": {},
     "output_type": "execute_result"
    }
   ],
   "source": [
    "#show the number of columns in dataset\n",
    "len(dataset.columns)"
   ]
  },
  {
   "cell_type": "code",
   "execution_count": 87,
   "metadata": {},
   "outputs": [],
   "source": [
    "#make a new dataset called new_dataset-2 that includes \n",
    "#columns only selected by hill climbing\n",
    "new_dataset_2 = dataset[['NR2A_N', 'pERK_N', 'pNR2A_N','ERK_N', 'JNK_N', 'MEK_N', 'Bcatenin_N', 'SOD1_N','DSCR1_N', 'NUMB_N', 'P70S6_N', 'pGSK3B_N','pPKCG_N', 'CDK5_N','ADARB1_N','ARC_N', 'ERBB4_N', 'nNOS_N', 'GFAP_N', 'GluR3_N','GluR4_N','PSD95_N','BCL2_N','EGR1_N', 'H3MeK4_N', 'CaNA_N']]"
   ]
  },
  {
   "cell_type": "code",
   "execution_count": 88,
   "metadata": {},
   "outputs": [
    {
     "data": {
      "text/plain": [
       "26"
      ]
     },
     "execution_count": 88,
     "metadata": {},
     "output_type": "execute_result"
    }
   ],
   "source": [
    "#check that the new_dataset_2 has only 26 of the selected columns\n",
    "len(new_dataset_2.columns)"
   ]
  },
  {
   "cell_type": "code",
   "execution_count": 89,
   "metadata": {},
   "outputs": [],
   "source": [
    "#split the data\n",
    "X = new_dataset_2\n",
    "y = dataset[['class']]"
   ]
  },
  {
   "cell_type": "code",
   "execution_count": 90,
   "metadata": {},
   "outputs": [
    {
     "name": "stdout",
     "output_type": "stream",
     "text": [
      "        NR2A_N    pERK_N   pNR2A_N     ERK_N     JNK_N     MEK_N  Bcatenin_N  \\\n",
      "0     5.990152  0.687906  0.605673  3.685247  0.264526  0.319677    3.037621   \n",
      "1     5.685038  0.695006  0.587559  3.485287  0.255727  0.304419    2.921882   \n",
      "2     5.622059  0.677348  0.602449  3.571456  0.259614  0.311747    2.944136   \n",
      "3     4.979503  0.583277  0.520293  2.970137  0.259536  0.279218    2.500204   \n",
      "4     4.718679  0.550960  0.507990  2.896334  0.250705  0.273667    2.456560   \n",
      "...        ...       ...       ...       ...       ...       ...         ...   \n",
      "1075  2.600035  0.265642  0.510604  1.822906  0.236303  0.249205    1.828208   \n",
      "1076  2.801492  0.270378  0.524381  1.879913  0.245451  0.262191    1.883370   \n",
      "1077  2.220852  0.255045  0.442638  1.425262  0.216741  0.235426    1.494208   \n",
      "1078  2.384088  0.230649  0.479522  1.558887  0.238095  0.270429    1.571820   \n",
      "1079  2.594348  0.276146  0.502225  1.785937  0.287049  0.281709    1.742768   \n",
      "\n",
      "        SOD1_N   DSCR1_N    NUMB_N  ...   ERBB4_N    nNOS_N    GFAP_N  \\\n",
      "0     0.369510  0.576916  0.182150  ...  0.144989  0.176668  0.115291   \n",
      "1     0.342279  0.545097  0.182086  ...  0.150471  0.178309  0.118235   \n",
      "2     0.343696  0.543620  0.184388  ...  0.145330  0.176213  0.117760   \n",
      "3     0.344509  0.546763  0.161768  ...  0.140656  0.163804  0.117439   \n",
      "4     0.329126  0.536860  0.160200  ...  0.141983  0.167710  0.116048   \n",
      "...        ...       ...       ...  ...       ...       ...       ...   \n",
      "1075  0.820078  0.508130  0.209433  ...  0.160303  0.189360  0.134896   \n",
      "1076  0.854258  0.519105  0.194333  ...  0.161576  0.187146  0.130615   \n",
      "1077  0.661809  0.463378  0.196736  ...  0.174252  0.185131  0.137081   \n",
      "1078  0.698413  0.480502  0.197567  ...  0.172508  0.193753  0.149265   \n",
      "1079  0.786827  0.533823  0.188807  ...  0.172001  0.191311  0.140533   \n",
      "\n",
      "       GluR3_N   GluR4_N   PSD95_N    BCL2_N    EGR1_N  H3MeK4_N    CaNA_N  \n",
      "0     0.228043  0.142756  2.014875  0.134762  0.131790  0.128186  1.675652  \n",
      "1     0.238073  0.142037  2.004605  0.134762  0.135103  0.131119  1.743610  \n",
      "2     0.244817  0.142445  2.016831  0.134762  0.133362  0.127431  1.926427  \n",
      "3     0.234947  0.145068  1.957233  0.134762  0.147444  0.146901  1.700563  \n",
      "4     0.255528  0.140871  2.009109  0.134762  0.140314  0.148380  1.839730  \n",
      "...        ...       ...       ...       ...       ...       ...       ...  \n",
      "1075  0.207748  0.134475  2.578046  0.134762  0.204660  0.328327  1.364823  \n",
      "1076  0.205114  0.122184  2.534347  0.134762  0.200415  0.293435  1.364478  \n",
      "1077  0.201088  0.126927  2.544515  0.134762  0.229193  0.355213  1.430825  \n",
      "1078  0.204467  0.124569  2.609769  0.134762  0.251317  0.365353  1.404031  \n",
      "1079  0.204363  0.121402  2.526372  0.134762  0.252995  0.365278  1.370999  \n",
      "\n",
      "[1080 rows x 26 columns]\n"
     ]
    }
   ],
   "source": [
    "print (X)"
   ]
  },
  {
   "cell_type": "code",
   "execution_count": 91,
   "metadata": {},
   "outputs": [
    {
     "name": "stdout",
     "output_type": "stream",
     "text": [
      "       class\n",
      "0     c-CS-m\n",
      "1     c-CS-m\n",
      "2     c-CS-m\n",
      "3     c-CS-m\n",
      "4     c-CS-m\n",
      "...      ...\n",
      "1075  t-SC-s\n",
      "1076  t-SC-s\n",
      "1077  t-SC-s\n",
      "1078  t-SC-s\n",
      "1079  t-SC-s\n",
      "\n",
      "[1080 rows x 1 columns]\n"
     ]
    }
   ],
   "source": [
    "print (y)"
   ]
  },
  {
   "cell_type": "code",
   "execution_count": 92,
   "metadata": {},
   "outputs": [],
   "source": [
    "#80% for training and 20% for tests\n",
    "\n",
    "X_train, X_test, y_train, y_test = train_test_split(X, y, test_size=0.20,random_state=1)"
   ]
  },
  {
   "cell_type": "code",
   "execution_count": 93,
   "metadata": {},
   "outputs": [],
   "source": [
    "#Decision tree classifier\n",
    "#I've tried different values of the parameters, \n",
    "#and the following has the best precision\n",
    "#the different values for the parameters will be explained in the report"
   ]
  },
  {
   "cell_type": "code",
   "execution_count": 94,
   "metadata": {},
   "outputs": [],
   "source": [
    "clf1 = DecisionTreeClassifier(criterion='gini', max_depth=9, min_samples_split=10, min_samples_leaf=4, max_features=10, max_leaf_nodes=45,random_state=0)\n",
    "fit = clf1.fit(X_train, y_train)\n",
    "y_pre = fit.predict(X_test)\n"
   ]
  },
  {
   "cell_type": "code",
   "execution_count": 95,
   "metadata": {},
   "outputs": [
    {
     "data": {
      "text/plain": [
       "array(['t-CS-s', 't-SC-s', 'c-SC-s', 'c-CS-m', 't-CS-m', 'c-CS-m',\n",
       "       'c-CS-m', 'c-SC-m', 'c-CS-m', 'c-SC-s', 't-CS-m', 'c-SC-m',\n",
       "       'c-SC-s', 't-SC-m', 't-SC-m', 'c-SC-s', 'c-CS-m', 't-CS-m',\n",
       "       'c-SC-m', 'c-CS-m', 't-CS-m', 'c-SC-m', 'c-SC-m', 'c-SC-s',\n",
       "       'c-SC-s', 't-CS-m', 't-CS-s', 'c-CS-s', 't-SC-m', 't-CS-s',\n",
       "       'c-SC-m', 't-SC-m', 't-SC-s', 'c-CS-m', 'c-CS-m', 'c-CS-s',\n",
       "       't-SC-m', 'c-CS-m', 'c-CS-s', 't-SC-s', 'c-SC-m', 't-CS-m',\n",
       "       't-SC-m', 'c-CS-m', 'c-SC-s', 'c-SC-m', 't-SC-m', 'c-CS-s',\n",
       "       'c-CS-m', 'c-SC-m', 'c-SC-m', 't-SC-s', 'c-SC-m', 'c-CS-m',\n",
       "       'c-SC-m', 't-CS-m', 't-CS-s', 'c-SC-m', 'c-CS-s', 'c-CS-m',\n",
       "       'c-SC-m', 't-CS-s', 'c-CS-m', 'c-SC-m', 'c-SC-s', 't-SC-s',\n",
       "       'c-SC-m', 't-SC-m', 't-CS-s', 'c-CS-m', 'c-CS-s', 't-CS-m',\n",
       "       't-CS-m', 'c-CS-m', 'c-CS-m', 'c-CS-m', 't-CS-m', 't-CS-m',\n",
       "       'c-CS-s', 'c-SC-m', 'c-SC-m', 't-CS-m', 'c-CS-s', 't-SC-s',\n",
       "       't-CS-m', 'c-CS-m', 't-SC-m', 't-CS-m', 'c-SC-m', 'c-SC-s',\n",
       "       'c-SC-m', 'c-SC-m', 'c-SC-m', 't-CS-m', 't-CS-s', 'c-SC-m',\n",
       "       't-CS-m', 't-CS-s', 't-CS-m', 'c-CS-m', 'c-SC-m', 'c-SC-s',\n",
       "       't-CS-m', 't-SC-m', 't-SC-s', 't-CS-m', 'c-CS-s', 'c-CS-s',\n",
       "       'c-SC-m', 't-SC-s', 't-SC-m', 'c-SC-s', 't-SC-s', 'c-SC-s',\n",
       "       'c-SC-m', 'c-SC-s', 'c-CS-s', 'c-SC-s', 't-SC-s', 't-SC-m',\n",
       "       't-SC-m', 't-SC-s', 't-SC-s', 't-CS-s', 'c-SC-m', 'c-SC-m',\n",
       "       'c-SC-s', 'c-SC-m', 'c-CS-m', 't-CS-m', 'c-SC-s', 't-SC-m',\n",
       "       't-SC-m', 't-CS-m', 'c-SC-m', 'c-SC-m', 't-SC-m', 't-CS-m',\n",
       "       'c-CS-s', 't-SC-s', 'c-SC-s', 'c-CS-m', 't-SC-s', 't-SC-m',\n",
       "       'c-CS-m', 't-CS-s', 't-CS-m', 'c-CS-m', 'c-CS-s', 't-CS-m',\n",
       "       't-SC-s', 'c-SC-m', 't-CS-m', 'c-CS-s', 't-CS-s', 'c-CS-s',\n",
       "       'c-SC-m', 'c-SC-m', 'c-CS-s', 't-CS-m', 't-SC-m', 't-SC-s',\n",
       "       't-CS-m', 'c-CS-m', 't-CS-s', 't-SC-m', 't-SC-m', 'c-SC-m',\n",
       "       't-SC-m', 'c-CS-s', 'c-SC-m', 'c-SC-s', 't-SC-s', 'c-CS-s',\n",
       "       'c-SC-s', 'c-SC-m', 'c-CS-s', 'c-CS-m', 'c-CS-m', 't-SC-m',\n",
       "       't-SC-m', 'c-SC-m', 'c-CS-s', 'c-SC-s', 'c-SC-s', 'c-CS-m',\n",
       "       'c-CS-s', 'c-CS-s', 'c-SC-s', 't-SC-s', 'c-SC-m', 't-CS-s',\n",
       "       't-SC-m', 't-SC-s', 'c-CS-s', 'c-SC-m', 'c-CS-s', 't-SC-s',\n",
       "       't-CS-m', 't-CS-s', 'c-SC-m', 'c-CS-m', 'c-SC-m', 't-CS-s',\n",
       "       'c-SC-s', 'c-SC-m', 't-CS-m', 't-CS-m', 'c-CS-m', 't-SC-m',\n",
       "       't-SC-s', 'c-CS-m', 'c-CS-s', 'c-CS-s', 'c-CS-s', 'c-CS-s'],\n",
       "      dtype=object)"
      ]
     },
     "execution_count": 95,
     "metadata": {},
     "output_type": "execute_result"
    }
   ],
   "source": [
    "y_pre"
   ]
  },
  {
   "cell_type": "code",
   "execution_count": 96,
   "metadata": {},
   "outputs": [
    {
     "data": {
      "text/plain": [
       "(216,)"
      ]
     },
     "execution_count": 96,
     "metadata": {},
     "output_type": "execute_result"
    }
   ],
   "source": [
    "y_pre.shape"
   ]
  },
  {
   "cell_type": "code",
   "execution_count": 97,
   "metadata": {},
   "outputs": [],
   "source": [
    "#confusion matrix\n",
    "from sklearn.metrics import confusion_matrix"
   ]
  },
  {
   "cell_type": "code",
   "execution_count": 98,
   "metadata": {},
   "outputs": [],
   "source": [
    "cm = confusion_matrix(y_test, y_pre)"
   ]
  },
  {
   "cell_type": "code",
   "execution_count": 99,
   "metadata": {},
   "outputs": [
    {
     "data": {
      "text/plain": [
       "array([[22,  5,  0,  0,  4,  3,  0,  0],\n",
       "       [ 3, 19,  0,  0,  0,  5,  0,  0],\n",
       "       [ 0,  0, 27,  5,  0,  0,  5,  0],\n",
       "       [ 0,  0,  5, 17,  0,  0,  1,  1],\n",
       "       [ 2,  1,  0,  0, 22,  2,  1,  0],\n",
       "       [ 4,  1,  0,  0,  4,  5,  1,  0],\n",
       "       [ 0,  0, 11,  0,  0,  0, 17,  1],\n",
       "       [ 0,  2,  0,  1,  0,  0,  0, 19]])"
      ]
     },
     "execution_count": 99,
     "metadata": {},
     "output_type": "execute_result"
    }
   ],
   "source": [
    "cm"
   ]
  },
  {
   "cell_type": "code",
   "execution_count": 100,
   "metadata": {},
   "outputs": [],
   "source": [
    "#classification report\n",
    "from sklearn.metrics import classification_report"
   ]
  },
  {
   "cell_type": "code",
   "execution_count": 101,
   "metadata": {},
   "outputs": [
    {
     "name": "stdout",
     "output_type": "stream",
     "text": [
      "              precision    recall  f1-score   support\n",
      "\n",
      "      c-CS-m       0.71      0.65      0.68        34\n",
      "      c-CS-s       0.68      0.70      0.69        27\n",
      "      c-SC-m       0.63      0.73      0.68        37\n",
      "      c-SC-s       0.74      0.71      0.72        24\n",
      "      t-CS-m       0.73      0.79      0.76        28\n",
      "      t-CS-s       0.33      0.33      0.33        15\n",
      "      t-SC-m       0.68      0.59      0.63        29\n",
      "      t-SC-s       0.90      0.86      0.88        22\n",
      "\n",
      "    accuracy                           0.69       216\n",
      "   macro avg       0.68      0.67      0.67       216\n",
      "weighted avg       0.69      0.69      0.68       216\n",
      "\n"
     ]
    }
   ],
   "source": [
    "print(classification_report(y_test,y_pre))"
   ]
  },
  {
   "cell_type": "code",
   "execution_count": 102,
   "metadata": {},
   "outputs": [
    {
     "name": "stdout",
     "output_type": "stream",
     "text": [
      "Figure 21: Classification report for Decision Tree Classifier\n",
      "              precision    recall  f1-score   support\n",
      "\n",
      "      c-CS-m       0.79      0.62      0.70        24\n",
      "      c-CS-s       0.50      0.73      0.59        11\n",
      "      c-SC-m       0.89      0.76      0.82        21\n",
      "      c-SC-s       0.60      0.75      0.67        12\n",
      "      t-CS-m       0.73      0.85      0.79        13\n",
      "      t-CS-s       0.88      0.78      0.82         9\n",
      "      t-SC-m       0.90      0.75      0.82        12\n",
      "      t-SC-s       0.86      1.00      0.92         6\n",
      "\n",
      "    accuracy                           0.75       108\n",
      "   macro avg       0.77      0.78      0.77       108\n",
      "weighted avg       0.77      0.75      0.75       108\n",
      "\n"
     ]
    }
   ],
   "source": [
    "#90% for training and 10% for tests\n",
    "\n",
    "X_train, X_test, y_train, y_test = train_test_split(X, y, test_size=0.10,random_state=1)\n",
    "clf2 = DecisionTreeClassifier(criterion='gini', max_depth=9, min_samples_split=10, min_samples_leaf=4, max_features=8, max_leaf_nodes=45,random_state=0)\n",
    "fit = clf2.fit(X_train, y_train)\n",
    "y_pre = fit.predict(X_test)\n",
    "cm = confusion_matrix(y_test, y_pre)\n",
    "#printing a string for better clarification in report\n",
    "print (\"Figure 21: Classification report for Decision Tree Classifier\")\n",
    "print(classification_report(y_test,y_pre))"
   ]
  },
  {
   "cell_type": "code",
   "execution_count": 103,
   "metadata": {},
   "outputs": [
    {
     "name": "stdout",
     "output_type": "stream",
     "text": [
      "              precision    recall  f1-score   support\n",
      "\n",
      "      c-CS-m       0.69      0.70      0.70        64\n",
      "      c-CS-s       0.51      0.56      0.53        52\n",
      "      c-SC-m       0.69      0.70      0.70        61\n",
      "      c-SC-s       0.57      0.70      0.63        50\n",
      "      t-CS-m       0.58      0.70      0.63        57\n",
      "      t-CS-s       0.71      0.59      0.65        34\n",
      "      t-SC-m       0.67      0.59      0.63        56\n",
      "      t-SC-s       0.88      0.62      0.73        58\n",
      "\n",
      "    accuracy                           0.65       432\n",
      "   macro avg       0.66      0.65      0.65       432\n",
      "weighted avg       0.67      0.65      0.65       432\n",
      "\n"
     ]
    }
   ],
   "source": [
    "#60% for training and 40% for tests\n",
    "X_train, X_test, y_train, y_test = train_test_split(X, y, test_size=0.40,random_state=1)\n",
    "clf3 = DecisionTreeClassifier(criterion='gini', max_depth=9, min_samples_split=10, min_samples_leaf=4, max_features=8, max_leaf_nodes=45,random_state=0)\n",
    "fit = clf3.fit(X_train, y_train)\n",
    "y_pre = fit.predict(X_test)\n",
    "cm = confusion_matrix(y_test, y_pre)\n",
    "print(classification_report(y_test,y_pre))\n",
    "\n"
   ]
  },
  {
   "cell_type": "code",
   "execution_count": 104,
   "metadata": {},
   "outputs": [
    {
     "name": "stdout",
     "output_type": "stream",
     "text": [
      "              precision    recall  f1-score   support\n",
      "\n",
      "      c-CS-m       0.73      0.71      0.72        49\n",
      "      c-CS-s       0.62      0.51      0.56        41\n",
      "      c-SC-m       0.70      0.76      0.73        46\n",
      "      c-SC-s       0.72      0.78      0.75        37\n",
      "      t-CS-m       0.68      0.76      0.72        42\n",
      "      t-CS-s       0.56      0.56      0.56        25\n",
      "      t-SC-m       0.76      0.73      0.74        44\n",
      "      t-SC-s       0.92      0.88      0.90        40\n",
      "\n",
      "    accuracy                           0.72       324\n",
      "   macro avg       0.71      0.71      0.71       324\n",
      "weighted avg       0.72      0.72      0.72       324\n",
      "\n"
     ]
    }
   ],
   "source": [
    "#70% for training and 30% for tests\n",
    "X_train, X_test, y_train, y_test = train_test_split(X, y, test_size=0.30,random_state=1)\n",
    "clf4 = DecisionTreeClassifier(criterion='gini', max_depth=9, min_samples_split=10, min_samples_leaf=4, max_features=10, max_leaf_nodes=45,random_state=0)\n",
    "fit = clf4.fit(X_train, y_train)\n",
    "y_pre = fit.predict(X_test)\n",
    "cm = confusion_matrix(y_test, y_pre)\n",
    "print(classification_report(y_test,y_pre))\n",
    "\n"
   ]
  },
  {
   "cell_type": "code",
   "execution_count": 105,
   "metadata": {},
   "outputs": [
    {
     "name": "stdout",
     "output_type": "stream",
     "text": [
      "              precision    recall  f1-score   support\n",
      "\n",
      "      c-CS-m       0.84      0.67      0.74        24\n",
      "      c-CS-s       0.70      0.64      0.67        11\n",
      "      c-SC-m       0.73      0.52      0.61        21\n",
      "      c-SC-s       0.53      0.67      0.59        12\n",
      "      t-CS-m       0.62      0.77      0.69        13\n",
      "      t-CS-s       0.54      0.78      0.64         9\n",
      "      t-SC-m       0.54      0.58      0.56        12\n",
      "      t-SC-s       0.86      1.00      0.92         6\n",
      "\n",
      "    accuracy                           0.67       108\n",
      "   macro avg       0.67      0.70      0.68       108\n",
      "weighted avg       0.69      0.67      0.67       108\n",
      "\n"
     ]
    }
   ],
   "source": [
    "#90% for training and 10% for tests\n",
    "\n",
    "X_train, X_test, y_train, y_test = train_test_split(X, y, test_size=0.10,random_state=1)\n",
    "clf5 = DecisionTreeClassifier(criterion='gini', max_depth=9, min_samples_split=10, min_samples_leaf=4, max_features=10, max_leaf_nodes=45,random_state=0)\n",
    "fit = clf5.fit(X_train, y_train)\n",
    "y_pre = fit.predict(X_test)\n",
    "cm = confusion_matrix(y_test, y_pre)\n",
    "print(classification_report(y_test,y_pre))"
   ]
  },
  {
   "cell_type": "code",
   "execution_count": 106,
   "metadata": {},
   "outputs": [],
   "source": [
    "#visualise the tree\n",
    "from sklearn import tree\n",
    "with open('micedataset.dot', 'w') as f:\n",
    "    f = tree.export_graphviz(clf2, out_file=f, feature_names=None, class_names=target_names, filled=True, rounded=True, special_characters=True)\n",
    "\n"
   ]
  },
  {
   "cell_type": "code",
   "execution_count": 107,
   "metadata": {},
   "outputs": [],
   "source": [
    "#KNN starts here"
   ]
  },
  {
   "cell_type": "code",
   "execution_count": 108,
   "metadata": {},
   "outputs": [],
   "source": [
    "from sklearn.neighbors import KNeighborsClassifier"
   ]
  },
  {
   "cell_type": "code",
   "execution_count": 109,
   "metadata": {},
   "outputs": [
    {
     "name": "stdout",
     "output_type": "stream",
     "text": [
      "Score with 1 selected features: 0.2037037037037037\n",
      "Score with 2 selected features: 0.2222222222222222\n",
      "Score with 3 selected features: 0.2777777777777778\n",
      "Score with 4 selected features: 0.3888888888888889\n",
      "Score with 5 selected features: 0.5555555555555556\n",
      "Score with 6 selected features: 0.5601851851851852\n",
      "Score with 7 selected features: 0.6527777777777778\n",
      "Score with 8 selected features: 0.8703703703703703\n",
      "Score with 9 selected features: 0.8888888888888888\n",
      "Score with 10 selected features: 0.8888888888888888\n"
     ]
    },
    {
     "name": "stderr",
     "output_type": "stream",
     "text": [
      "/opt/anaconda3/lib/python3.7/site-packages/ipykernel_launcher.py:11: DataConversionWarning: A column-vector y was passed when a 1d array was expected. Please change the shape of y to (n_samples, ), for example using ravel().\n",
      "  # This is added back by InteractiveShellApp.init_path()\n",
      "/opt/anaconda3/lib/python3.7/site-packages/ipykernel_launcher.py:11: DataConversionWarning: A column-vector y was passed when a 1d array was expected. Please change the shape of y to (n_samples, ), for example using ravel().\n",
      "  # This is added back by InteractiveShellApp.init_path()\n",
      "/opt/anaconda3/lib/python3.7/site-packages/ipykernel_launcher.py:11: DataConversionWarning: A column-vector y was passed when a 1d array was expected. Please change the shape of y to (n_samples, ), for example using ravel().\n",
      "  # This is added back by InteractiveShellApp.init_path()\n",
      "/opt/anaconda3/lib/python3.7/site-packages/ipykernel_launcher.py:11: DataConversionWarning: A column-vector y was passed when a 1d array was expected. Please change the shape of y to (n_samples, ), for example using ravel().\n",
      "  # This is added back by InteractiveShellApp.init_path()\n",
      "/opt/anaconda3/lib/python3.7/site-packages/ipykernel_launcher.py:11: DataConversionWarning: A column-vector y was passed when a 1d array was expected. Please change the shape of y to (n_samples, ), for example using ravel().\n",
      "  # This is added back by InteractiveShellApp.init_path()\n",
      "/opt/anaconda3/lib/python3.7/site-packages/ipykernel_launcher.py:11: DataConversionWarning: A column-vector y was passed when a 1d array was expected. Please change the shape of y to (n_samples, ), for example using ravel().\n",
      "  # This is added back by InteractiveShellApp.init_path()\n",
      "/opt/anaconda3/lib/python3.7/site-packages/ipykernel_launcher.py:11: DataConversionWarning: A column-vector y was passed when a 1d array was expected. Please change the shape of y to (n_samples, ), for example using ravel().\n",
      "  # This is added back by InteractiveShellApp.init_path()\n",
      "/opt/anaconda3/lib/python3.7/site-packages/ipykernel_launcher.py:11: DataConversionWarning: A column-vector y was passed when a 1d array was expected. Please change the shape of y to (n_samples, ), for example using ravel().\n",
      "  # This is added back by InteractiveShellApp.init_path()\n",
      "/opt/anaconda3/lib/python3.7/site-packages/ipykernel_launcher.py:11: DataConversionWarning: A column-vector y was passed when a 1d array was expected. Please change the shape of y to (n_samples, ), for example using ravel().\n",
      "  # This is added back by InteractiveShellApp.init_path()\n",
      "/opt/anaconda3/lib/python3.7/site-packages/ipykernel_launcher.py:11: DataConversionWarning: A column-vector y was passed when a 1d array was expected. Please change the shape of y to (n_samples, ), for example using ravel().\n",
      "  # This is added back by InteractiveShellApp.init_path()\n",
      "/opt/anaconda3/lib/python3.7/site-packages/ipykernel_launcher.py:11: DataConversionWarning: A column-vector y was passed when a 1d array was expected. Please change the shape of y to (n_samples, ), for example using ravel().\n",
      "  # This is added back by InteractiveShellApp.init_path()\n"
     ]
    }
   ],
   "source": [
    "#hill climbing for 80% training set and 20% dataset\n",
    "new_Ind = []\n",
    "cur_MaxScore = 0.0\n",
    "col_num = 11\n",
    "col_Ind_Random = shuffle(range(0, col_num), random_state = 1)\n",
    "for cur_f in range(col_num):\n",
    "    new_Ind.append(col_Ind_Random[cur_f])\n",
    "    newData = dataset_array[:, new_Ind]\n",
    "    X_train, X_test, y_train, y_test = train_test_split(newData, y, test_size=0.2, random_state=1)\n",
    "    clf = KNeighborsClassifier(5, 'distance', p=1)\n",
    "    fit = clf.fit(X_train, y_train)\n",
    "    cur_Score = clf.score(X_test, y_test)\n",
    "    if cur_Score < cur_MaxScore:\n",
    "        new_Ind.remove(col_Ind_Random[cur_f])\n",
    "    else:\n",
    "        cur_MaxScore = cur_Score\n",
    "        print (\"Score with \" + str(len(new_Ind)) + \" selected features: \" + str(cur_Score))\n",
    "\n"
   ]
  },
  {
   "cell_type": "code",
   "execution_count": 110,
   "metadata": {},
   "outputs": [
    {
     "name": "stdout",
     "output_type": "stream",
     "text": [
      "There are 10 features selected.\n"
     ]
    }
   ],
   "source": [
    " print(\"There are \" + str(len(new_Ind)) + \" features selected.\")"
   ]
  },
  {
   "cell_type": "code",
   "execution_count": 111,
   "metadata": {},
   "outputs": [
    {
     "name": "stdout",
     "output_type": "stream",
     "text": [
      "[2, 3, 4, 9, 1, 6, 0, 7, 10, 5]\n"
     ]
    }
   ],
   "source": [
    "print(new_Ind)"
   ]
  },
  {
   "cell_type": "code",
   "execution_count": 112,
   "metadata": {},
   "outputs": [],
   "source": [
    "#make a new dataset called new_dataset with columns that are only selected by hill climbing\n",
    "new_dataset = dataset[dataset.columns[0:11]]"
   ]
  },
  {
   "cell_type": "code",
   "execution_count": 113,
   "metadata": {},
   "outputs": [
    {
     "data": {
      "text/html": [
       "<div>\n",
       "<style scoped>\n",
       "    .dataframe tbody tr th:only-of-type {\n",
       "        vertical-align: middle;\n",
       "    }\n",
       "\n",
       "    .dataframe tbody tr th {\n",
       "        vertical-align: top;\n",
       "    }\n",
       "\n",
       "    .dataframe thead th {\n",
       "        text-align: right;\n",
       "    }\n",
       "</style>\n",
       "<table border=\"1\" class=\"dataframe\">\n",
       "  <thead>\n",
       "    <tr style=\"text-align: right;\">\n",
       "      <th></th>\n",
       "      <th>DYRK1A_N</th>\n",
       "      <th>ITSN1_N</th>\n",
       "      <th>BDNF_N</th>\n",
       "      <th>NR1_N</th>\n",
       "      <th>NR2A_N</th>\n",
       "      <th>pAKT_N</th>\n",
       "      <th>pBRAF_N</th>\n",
       "      <th>pCAMKII_N</th>\n",
       "      <th>pCREB_N</th>\n",
       "      <th>pELK_N</th>\n",
       "      <th>pERK_N</th>\n",
       "    </tr>\n",
       "  </thead>\n",
       "  <tbody>\n",
       "    <tr>\n",
       "      <th>0</th>\n",
       "      <td>0.503644</td>\n",
       "      <td>0.747193</td>\n",
       "      <td>0.430175</td>\n",
       "      <td>2.816329</td>\n",
       "      <td>5.990152</td>\n",
       "      <td>0.218830</td>\n",
       "      <td>0.177565</td>\n",
       "      <td>2.373744</td>\n",
       "      <td>0.232224</td>\n",
       "      <td>1.750936</td>\n",
       "      <td>0.687906</td>\n",
       "    </tr>\n",
       "    <tr>\n",
       "      <th>1</th>\n",
       "      <td>0.514617</td>\n",
       "      <td>0.689064</td>\n",
       "      <td>0.411770</td>\n",
       "      <td>2.789514</td>\n",
       "      <td>5.685038</td>\n",
       "      <td>0.211636</td>\n",
       "      <td>0.172817</td>\n",
       "      <td>2.292150</td>\n",
       "      <td>0.226972</td>\n",
       "      <td>1.596377</td>\n",
       "      <td>0.695006</td>\n",
       "    </tr>\n",
       "    <tr>\n",
       "      <th>2</th>\n",
       "      <td>0.509183</td>\n",
       "      <td>0.730247</td>\n",
       "      <td>0.418309</td>\n",
       "      <td>2.687201</td>\n",
       "      <td>5.622059</td>\n",
       "      <td>0.209011</td>\n",
       "      <td>0.175722</td>\n",
       "      <td>2.283337</td>\n",
       "      <td>0.230247</td>\n",
       "      <td>1.561316</td>\n",
       "      <td>0.677348</td>\n",
       "    </tr>\n",
       "    <tr>\n",
       "      <th>3</th>\n",
       "      <td>0.442107</td>\n",
       "      <td>0.617076</td>\n",
       "      <td>0.358626</td>\n",
       "      <td>2.466947</td>\n",
       "      <td>4.979503</td>\n",
       "      <td>0.222886</td>\n",
       "      <td>0.176463</td>\n",
       "      <td>2.152301</td>\n",
       "      <td>0.207004</td>\n",
       "      <td>1.595086</td>\n",
       "      <td>0.583277</td>\n",
       "    </tr>\n",
       "    <tr>\n",
       "      <th>4</th>\n",
       "      <td>0.434940</td>\n",
       "      <td>0.617430</td>\n",
       "      <td>0.358802</td>\n",
       "      <td>2.365785</td>\n",
       "      <td>4.718679</td>\n",
       "      <td>0.213106</td>\n",
       "      <td>0.173627</td>\n",
       "      <td>2.134014</td>\n",
       "      <td>0.192158</td>\n",
       "      <td>1.504230</td>\n",
       "      <td>0.550960</td>\n",
       "    </tr>\n",
       "  </tbody>\n",
       "</table>\n",
       "</div>"
      ],
      "text/plain": [
       "   DYRK1A_N   ITSN1_N    BDNF_N     NR1_N    NR2A_N    pAKT_N   pBRAF_N  \\\n",
       "0  0.503644  0.747193  0.430175  2.816329  5.990152  0.218830  0.177565   \n",
       "1  0.514617  0.689064  0.411770  2.789514  5.685038  0.211636  0.172817   \n",
       "2  0.509183  0.730247  0.418309  2.687201  5.622059  0.209011  0.175722   \n",
       "3  0.442107  0.617076  0.358626  2.466947  4.979503  0.222886  0.176463   \n",
       "4  0.434940  0.617430  0.358802  2.365785  4.718679  0.213106  0.173627   \n",
       "\n",
       "   pCAMKII_N   pCREB_N    pELK_N    pERK_N  \n",
       "0   2.373744  0.232224  1.750936  0.687906  \n",
       "1   2.292150  0.226972  1.596377  0.695006  \n",
       "2   2.283337  0.230247  1.561316  0.677348  \n",
       "3   2.152301  0.207004  1.595086  0.583277  \n",
       "4   2.134014  0.192158  1.504230  0.550960  "
      ]
     },
     "execution_count": 113,
     "metadata": {},
     "output_type": "execute_result"
    }
   ],
   "source": [
    "new_dataset.head(5)"
   ]
  },
  {
   "cell_type": "code",
   "execution_count": 114,
   "metadata": {},
   "outputs": [
    {
     "name": "stderr",
     "output_type": "stream",
     "text": [
      "/opt/anaconda3/lib/python3.7/site-packages/pandas/core/frame.py:3997: SettingWithCopyWarning: \n",
      "A value is trying to be set on a copy of a slice from a DataFrame\n",
      "\n",
      "See the caveats in the documentation: https://pandas.pydata.org/pandas-docs/stable/user_guide/indexing.html#returning-a-view-versus-a-copy\n",
      "  errors=errors,\n"
     ]
    }
   ],
   "source": [
    "#drop column 8 of new_dataset as it is not selected by hill climbing\n",
    "new_dataset.drop(columns=['pCREB_N'], inplace=True)"
   ]
  },
  {
   "cell_type": "code",
   "execution_count": 115,
   "metadata": {},
   "outputs": [],
   "source": [
    "#split the data\n",
    "X= new_dataset.loc[:, 'DYRK1A_N':'pERK_N']\n",
    "y = dataset.iloc[:,77]"
   ]
  },
  {
   "cell_type": "code",
   "execution_count": 116,
   "metadata": {},
   "outputs": [],
   "source": [
    "#Parameter tuning reasons are given in the report"
   ]
  },
  {
   "cell_type": "code",
   "execution_count": 117,
   "metadata": {},
   "outputs": [
    {
     "name": "stdout",
     "output_type": "stream",
     "text": [
      "[[17  2  0  1  1  0  1  2]\n",
      " [ 0 10  1  0  0  0  0  0]\n",
      " [ 0  0 19  1  0  0  0  1]\n",
      " [ 0  0  1  5  0  0  2  4]\n",
      " [ 3  1  0  0  8  0  0  1]\n",
      " [ 0  1  2  0  2  4  0  0]\n",
      " [ 0  0  4  2  0  0  6  0]\n",
      " [ 0  0  1  1  0  0  0  4]]\n",
      "              precision    recall  f1-score   support\n",
      "\n",
      "      c-CS-m       0.85      0.71      0.77        24\n",
      "      c-CS-s       0.71      0.91      0.80        11\n",
      "      c-SC-m       0.68      0.90      0.78        21\n",
      "      c-SC-s       0.50      0.42      0.45        12\n",
      "      t-CS-m       0.73      0.62      0.67        13\n",
      "      t-CS-s       1.00      0.44      0.62         9\n",
      "      t-SC-m       0.67      0.50      0.57        12\n",
      "      t-SC-s       0.33      0.67      0.44         6\n",
      "\n",
      "    accuracy                           0.68       108\n",
      "   macro avg       0.68      0.65      0.64       108\n",
      "weighted avg       0.71      0.68      0.67       108\n",
      "\n"
     ]
    }
   ],
   "source": [
    "# 90% training and 10% test\n",
    "X_train, X_test, y_train, y_test = train_test_split(X, y, test_size=0.1, random_state=1)\n",
    "\n",
    "clf = KNeighborsClassifier(40, weights='distance', p=2)\n",
    "fit = clf.fit(X_train, y_train)\n",
    "y_pre = fit.predict(X_test)\n",
    "\n",
    "cm = confusion_matrix(y_test, y_pre)\n",
    "print (cm)\n",
    "print (classification_report(y_test, y_pre))"
   ]
  },
  {
   "cell_type": "code",
   "execution_count": 118,
   "metadata": {},
   "outputs": [
    {
     "name": "stdout",
     "output_type": "stream",
     "text": [
      "[[25  2  0  2  0  1  1  3]\n",
      " [ 2 20  0  1  0  2  2  0]\n",
      " [ 0  0 30  1  0  0  2  4]\n",
      " [ 0  2  1 15  0  0  2  4]\n",
      " [ 2  1  3  1 17  1  1  2]\n",
      " [ 0  0  1  0  4  8  2  0]\n",
      " [ 0  0  6  4  0  1 17  1]\n",
      " [ 0  0  6  2  0  0  1 13]]\n",
      "              precision    recall  f1-score   support\n",
      "\n",
      "      c-CS-m       0.86      0.74      0.79        34\n",
      "      c-CS-s       0.80      0.74      0.77        27\n",
      "      c-SC-m       0.64      0.81      0.71        37\n",
      "      c-SC-s       0.58      0.62      0.60        24\n",
      "      t-CS-m       0.81      0.61      0.69        28\n",
      "      t-CS-s       0.62      0.53      0.57        15\n",
      "      t-SC-m       0.61      0.59      0.60        29\n",
      "      t-SC-s       0.48      0.59      0.53        22\n",
      "\n",
      "    accuracy                           0.67       216\n",
      "   macro avg       0.67      0.65      0.66       216\n",
      "weighted avg       0.69      0.67      0.67       216\n",
      "\n"
     ]
    }
   ],
   "source": [
    "# 80% training and 20% test\n",
    "X_train, X_test, y_train, y_test = train_test_split(X, y, test_size=0.2, random_state=1)\n",
    "\n",
    "clf = KNeighborsClassifier(40, weights='distance', p=2)\n",
    "fit = clf.fit(X_train, y_train)\n",
    "y_pre = fit.predict(X_test)\n",
    "\n",
    "cm = confusion_matrix(y_test, y_pre)\n",
    "print (cm)\n",
    "print (classification_report(y_test, y_pre))"
   ]
  },
  {
   "cell_type": "code",
   "execution_count": 119,
   "metadata": {},
   "outputs": [
    {
     "name": "stdout",
     "output_type": "stream",
     "text": [
      "[[17  1  0  1  1  0  1  3]\n",
      " [ 0 10  1  0  0  0  0  0]\n",
      " [ 0  0 19  1  0  0  0  1]\n",
      " [ 0  0  1  6  0  0  2  3]\n",
      " [ 3  1  0  0  8  0  0  1]\n",
      " [ 0  1  0  0  2  6  0  0]\n",
      " [ 0  0  4  2  0  0  6  0]\n",
      " [ 0  0  1  1  0  0  0  4]]\n",
      "              precision    recall  f1-score   support\n",
      "\n",
      "      c-CS-m       0.85      0.71      0.77        24\n",
      "      c-CS-s       0.77      0.91      0.83        11\n",
      "      c-SC-m       0.73      0.90      0.81        21\n",
      "      c-SC-s       0.55      0.50      0.52        12\n",
      "      t-CS-m       0.73      0.62      0.67        13\n",
      "      t-CS-s       1.00      0.67      0.80         9\n",
      "      t-SC-m       0.67      0.50      0.57        12\n",
      "      t-SC-s       0.33      0.67      0.44         6\n",
      "\n",
      "    accuracy                           0.70       108\n",
      "   macro avg       0.70      0.68      0.68       108\n",
      "weighted avg       0.73      0.70      0.71       108\n",
      "\n"
     ]
    }
   ],
   "source": [
    "# 90% training and 10% test\n",
    "X_train, X_test, y_train, y_test = train_test_split(X, y, test_size=0.1, random_state=1)\n",
    "\n",
    "clf = KNeighborsClassifier(30, weights='distance', p=2)\n",
    "fit = clf.fit(X_train, y_train)\n",
    "y_pre = fit.predict(X_test)\n",
    "\n",
    "cm = confusion_matrix(y_test, y_pre)\n",
    "print (cm)\n",
    "print (classification_report(y_test, y_pre))"
   ]
  },
  {
   "cell_type": "code",
   "execution_count": 120,
   "metadata": {},
   "outputs": [
    {
     "name": "stdout",
     "output_type": "stream",
     "text": [
      "[[25  0  0  4  1  0  1  3]\n",
      " [ 2 21  1  0  0  3  0  0]\n",
      " [ 0  0 30  1  0  0  3  3]\n",
      " [ 0  2  1 15  0  0  2  4]\n",
      " [ 4  2  2  0 16  2  0  2]\n",
      " [ 0  0  0  0  4  9  2  0]\n",
      " [ 0  0  7  4  0  0 16  2]\n",
      " [ 0  0  5  2  0  0  1 14]]\n",
      "              precision    recall  f1-score   support\n",
      "\n",
      "      c-CS-m       0.81      0.74      0.77        34\n",
      "      c-CS-s       0.84      0.78      0.81        27\n",
      "      c-SC-m       0.65      0.81      0.72        37\n",
      "      c-SC-s       0.58      0.62      0.60        24\n",
      "      t-CS-m       0.76      0.57      0.65        28\n",
      "      t-CS-s       0.64      0.60      0.62        15\n",
      "      t-SC-m       0.64      0.55      0.59        29\n",
      "      t-SC-s       0.50      0.64      0.56        22\n",
      "\n",
      "    accuracy                           0.68       216\n",
      "   macro avg       0.68      0.66      0.67       216\n",
      "weighted avg       0.69      0.68      0.68       216\n",
      "\n"
     ]
    }
   ],
   "source": [
    "# 80% training and 20% test\n",
    "X_train, X_test, y_train, y_test = train_test_split(X, y, test_size=0.2, random_state=1)\n",
    "\n",
    "clf = KNeighborsClassifier(30, weights='distance', p=2)\n",
    "fit = clf.fit(X_train, y_train)\n",
    "y_pre = fit.predict(X_test)\n",
    "\n",
    "cm = confusion_matrix(y_test, y_pre)\n",
    "print (cm)\n",
    "print (classification_report(y_test, y_pre))"
   ]
  },
  {
   "cell_type": "code",
   "execution_count": 121,
   "metadata": {},
   "outputs": [
    {
     "name": "stdout",
     "output_type": "stream",
     "text": [
      "[[26  2  0  1  0  1  1  3]\n",
      " [ 2 21  0  0  0  3  1  0]\n",
      " [ 0  0 31  2  0  0  1  3]\n",
      " [ 0  0  1 18  0  0  1  4]\n",
      " [ 2  1  2  0 19  3  0  1]\n",
      " [ 0  1  0  0  4  8  2  0]\n",
      " [ 0  0  7  4  0  0 15  3]\n",
      " [ 0  0  5  2  0  0  1 14]]\n",
      "              precision    recall  f1-score   support\n",
      "\n",
      "      c-CS-m       0.87      0.76      0.81        34\n",
      "      c-CS-s       0.84      0.78      0.81        27\n",
      "      c-SC-m       0.67      0.84      0.75        37\n",
      "      c-SC-s       0.67      0.75      0.71        24\n",
      "      t-CS-m       0.83      0.68      0.75        28\n",
      "      t-CS-s       0.53      0.53      0.53        15\n",
      "      t-SC-m       0.68      0.52      0.59        29\n",
      "      t-SC-s       0.50      0.64      0.56        22\n",
      "\n",
      "    accuracy                           0.70       216\n",
      "   macro avg       0.70      0.69      0.69       216\n",
      "weighted avg       0.72      0.70      0.70       216\n",
      "\n"
     ]
    }
   ],
   "source": [
    "# 80% training and 20% test\n",
    "X_train, X_test, y_train, y_test = train_test_split(X, y, test_size=0.2, random_state=1)\n",
    "\n",
    "clf = KNeighborsClassifier(20, weights='distance', p=2)\n",
    "fit = clf.fit(X_train, y_train)\n",
    "y_pre = fit.predict(X_test)\n",
    "\n",
    "cm = confusion_matrix(y_test, y_pre)\n",
    "print (cm)\n",
    "print (classification_report(y_test, y_pre))"
   ]
  },
  {
   "cell_type": "code",
   "execution_count": 122,
   "metadata": {},
   "outputs": [
    {
     "name": "stdout",
     "output_type": "stream",
     "text": [
      "[[27  2  0  2  0  1  0  2]\n",
      " [ 2 24  0  0  0  1  0  0]\n",
      " [ 0  0 31  3  0  0  1  2]\n",
      " [ 0  2  1 17  0  0  1  3]\n",
      " [ 3  1  0  0 20  2  0  2]\n",
      " [ 0  0  0  0  3 12  0  0]\n",
      " [ 0  0  4  4  0  0 17  4]\n",
      " [ 0  0  6  2  0  0  1 13]]\n",
      "              precision    recall  f1-score   support\n",
      "\n",
      "      c-CS-m       0.84      0.79      0.82        34\n",
      "      c-CS-s       0.83      0.89      0.86        27\n",
      "      c-SC-m       0.74      0.84      0.78        37\n",
      "      c-SC-s       0.61      0.71      0.65        24\n",
      "      t-CS-m       0.87      0.71      0.78        28\n",
      "      t-CS-s       0.75      0.80      0.77        15\n",
      "      t-SC-m       0.85      0.59      0.69        29\n",
      "      t-SC-s       0.50      0.59      0.54        22\n",
      "\n",
      "    accuracy                           0.75       216\n",
      "   macro avg       0.75      0.74      0.74       216\n",
      "weighted avg       0.76      0.75      0.75       216\n",
      "\n"
     ]
    }
   ],
   "source": [
    "# 80% training and 20% test\n",
    "X_train, X_test, y_train, y_test = train_test_split(X, y, test_size=0.2, random_state=1)\n",
    "\n",
    "clf = KNeighborsClassifier(10, weights='distance', p=2)\n",
    "fit = clf.fit(X_train, y_train)\n",
    "y_pre = fit.predict(X_test)\n",
    "\n",
    "cm = confusion_matrix(y_test, y_pre)\n",
    "print (cm)\n",
    "print (classification_report(y_test, y_pre))"
   ]
  },
  {
   "cell_type": "code",
   "execution_count": 123,
   "metadata": {},
   "outputs": [
    {
     "name": "stdout",
     "output_type": "stream",
     "text": [
      "[[17  1  0  1  0  1  2  2]\n",
      " [ 0 10  1  0  0  0  0  0]\n",
      " [ 0  0 20  1  0  0  0  0]\n",
      " [ 0  0  1  7  0  0  1  3]\n",
      " [ 1  1  0  0  9  1  0  1]\n",
      " [ 0  0  0  0  2  7  0  0]\n",
      " [ 0  0  4  2  0  0  5  1]\n",
      " [ 0  0  1  1  0  0  0  4]]\n",
      "              precision    recall  f1-score   support\n",
      "\n",
      "      c-CS-m       0.94      0.71      0.81        24\n",
      "      c-CS-s       0.83      0.91      0.87        11\n",
      "      c-SC-m       0.74      0.95      0.83        21\n",
      "      c-SC-s       0.58      0.58      0.58        12\n",
      "      t-CS-m       0.82      0.69      0.75        13\n",
      "      t-CS-s       0.78      0.78      0.78         9\n",
      "      t-SC-m       0.62      0.42      0.50        12\n",
      "      t-SC-s       0.36      0.67      0.47         6\n",
      "\n",
      "    accuracy                           0.73       108\n",
      "   macro avg       0.71      0.71      0.70       108\n",
      "weighted avg       0.76      0.73      0.73       108\n",
      "\n"
     ]
    }
   ],
   "source": [
    "# 90% training and 10% test\n",
    "X_train, X_test, y_train, y_test = train_test_split(X, y, test_size=0.1, random_state=1)\n",
    "\n",
    "clf = KNeighborsClassifier(20, weights='distance', p=2)\n",
    "fit = clf.fit(X_train, y_train)\n",
    "y_pre = fit.predict(X_test)\n",
    "\n",
    "cm = confusion_matrix(y_test, y_pre)\n",
    "print (cm)\n",
    "print (classification_report(y_test, y_pre))"
   ]
  },
  {
   "cell_type": "code",
   "execution_count": 124,
   "metadata": {},
   "outputs": [
    {
     "name": "stdout",
     "output_type": "stream",
     "text": [
      "[[22  0  0  0  0  1  0  1]\n",
      " [ 0 10  0  0  0  0  1  0]\n",
      " [ 0  0 19  2  0  0  0  0]\n",
      " [ 0  0  1  8  0  0  1  2]\n",
      " [ 1  1  0  0 10  1  0  0]\n",
      " [ 0  0  0  0  1  8  0  0]\n",
      " [ 0  0  1  2  0  0  9  0]\n",
      " [ 0  0  1  1  0  0  0  4]]\n",
      "Figure 22: Classification report for KNN Classifier\n",
      "              precision    recall  f1-score   support\n",
      "\n",
      "      c-CS-m       0.96      0.92      0.94        24\n",
      "      c-CS-s       0.91      0.91      0.91        11\n",
      "      c-SC-m       0.86      0.90      0.88        21\n",
      "      c-SC-s       0.62      0.67      0.64        12\n",
      "      t-CS-m       0.91      0.77      0.83        13\n",
      "      t-CS-s       0.80      0.89      0.84         9\n",
      "      t-SC-m       0.82      0.75      0.78        12\n",
      "      t-SC-s       0.57      0.67      0.62         6\n",
      "\n",
      "    accuracy                           0.83       108\n",
      "   macro avg       0.81      0.81      0.81       108\n",
      "weighted avg       0.84      0.83      0.84       108\n",
      "\n"
     ]
    }
   ],
   "source": [
    "# 90% training and 10% test\n",
    "X_train, X_test, y_train, y_test = train_test_split(X, y, test_size=0.1, random_state=1)\n",
    "\n",
    "clf = KNeighborsClassifier(10, weights='distance', p=2)\n",
    "fit = clf.fit(X_train, y_train)\n",
    "y_pre = fit.predict(X_test)\n",
    "\n",
    "cm = confusion_matrix(y_test, y_pre)\n",
    "print (cm)\n",
    "#printing a string for better clarification in report\n",
    "print (\"Figure 22: Classification report for KNN Classifier\")\n",
    "print (classification_report(y_test, y_pre))"
   ]
  }
 ],
 "metadata": {
  "kernelspec": {
   "display_name": "Python 3",
   "language": "python",
   "name": "python3"
  },
  "language_info": {
   "codemirror_mode": {
    "name": "ipython",
    "version": 3
   },
   "file_extension": ".py",
   "mimetype": "text/x-python",
   "name": "python",
   "nbconvert_exporter": "python",
   "pygments_lexer": "ipython3",
   "version": "3.7.6"
  }
 },
 "nbformat": 4,
 "nbformat_minor": 4
}
